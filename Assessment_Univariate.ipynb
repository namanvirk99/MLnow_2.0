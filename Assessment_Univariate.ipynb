{
  "nbformat": 4,
  "nbformat_minor": 0,
  "metadata": {
    "colab": {
      "name": "Assessment_Univariate.ipynb",
      "provenance": [],
      "include_colab_link": true
    },
    "kernelspec": {
      "name": "python3",
      "display_name": "Python 3"
    }
  },
  "cells": [
    {
      "cell_type": "markdown",
      "metadata": {
        "id": "view-in-github",
        "colab_type": "text"
      },
      "source": [
        "<a href=\"https://colab.research.google.com/github/namanvirk99/MLnow_2.0/blob/main/Assessment_Univariate.ipynb\" target=\"_parent\"><img src=\"https://colab.research.google.com/assets/colab-badge.svg\" alt=\"Open In Colab\"/></a>"
      ]
    },
    {
      "cell_type": "markdown",
      "metadata": {
        "id": "q_569ugy6lyY"
      },
      "source": [
        "`Univariate Linear Regression`\n",
        "\n",
        "[Link to Download the dataset](https://archive.ics.uci.edu/ml/datasets/Student+Performance)\n",
        "\n",
        "**Date Created**: June 13, 2021\n",
        "\n",
        "\n",
        "**Author**:\n",
        " Namanpreet Kaur \n",
        "\n",
        "**Reach out**:\n",
        "[GitHub](https://github.com/namanvirk99) | [LinkedIn](https://www.linkedin.com/in/namanpreetkaur/)"
      ]
    },
    {
      "cell_type": "markdown",
      "metadata": {
        "id": "KmW9S6zjaauQ"
      },
      "source": [
        "## Setup"
      ]
    },
    {
      "cell_type": "code",
      "metadata": {
        "colab": {
          "base_uri": "https://localhost:8080/"
        },
        "id": "oX_QibhWsnnX",
        "outputId": "fb49f206-edbd-4fcf-8724-bb02cf3de8bd"
      },
      "source": [
        "from google.colab import drive\n",
        "drive.mount('/content/drive')"
      ],
      "execution_count": 1,
      "outputs": [
        {
          "output_type": "stream",
          "text": [
            "Mounted at /content/drive\n"
          ],
          "name": "stdout"
        }
      ]
    },
    {
      "cell_type": "code",
      "metadata": {
        "colab": {
          "base_uri": "https://localhost:8080/"
        },
        "id": "wYuNn17Isvml",
        "outputId": "b32d0a70-cbcf-48b0-fa45-38b19fdb6fe3"
      },
      "source": [
        "cd '/content/drive/MyDrive/GirlScript_ML/02_EDA/student.zip (Unzipped Files)'"
      ],
      "execution_count": 2,
      "outputs": [
        {
          "output_type": "stream",
          "text": [
            "/content/drive/MyDrive/GirlScript_ML/02_EDA/student.zip (Unzipped Files)\n"
          ],
          "name": "stdout"
        }
      ]
    },
    {
      "cell_type": "code",
      "metadata": {
        "colab": {
          "base_uri": "https://localhost:8080/"
        },
        "id": "oR69jwALs-uP",
        "outputId": "be9743ae-613c-4db2-8baf-c11ed655e47e"
      },
      "source": [
        "ls"
      ],
      "execution_count": 3,
      "outputs": [
        {
          "output_type": "stream",
          "text": [
            "student-mat.csv  student-por.csv  univariate_MathData_2.csv\n",
            "student-merge.R  student.txt\n"
          ],
          "name": "stdout"
        }
      ]
    },
    {
      "cell_type": "code",
      "metadata": {
        "id": "0rYwvbeMtPJg"
      },
      "source": [
        "import os"
      ],
      "execution_count": 4,
      "outputs": []
    },
    {
      "cell_type": "code",
      "metadata": {
        "id": "cnGQRbmes_tZ"
      },
      "source": [
        "import pandas as pd #working with csv or excel files\n",
        "import numpy as np #working with numbers/ arrays/ tensors\n",
        "import tensorflow as tf #framework\n",
        "from tensorflow import keras #API / library \n",
        "import os #using os commands between the python language"
      ],
      "execution_count": 5,
      "outputs": []
    },
    {
      "cell_type": "code",
      "metadata": {
        "id": "VV-Ps6dJtX6B"
      },
      "source": [
        "mathData = pd.read_csv('student-mat.csv', sep=';') #load the csv file as dataframe"
      ],
      "execution_count": 6,
      "outputs": []
    },
    {
      "cell_type": "code",
      "metadata": {
        "colab": {
          "base_uri": "https://localhost:8080/",
          "height": 377
        },
        "id": "2_KId_bptr05",
        "outputId": "ab4deec8-1d35-4e7d-fda8-b95935cc08e5"
      },
      "source": [
        "mathData.head(10) #print the first ten rows of the dataframe"
      ],
      "execution_count": 7,
      "outputs": [
        {
          "output_type": "execute_result",
          "data": {
            "text/html": [
              "<div>\n",
              "<style scoped>\n",
              "    .dataframe tbody tr th:only-of-type {\n",
              "        vertical-align: middle;\n",
              "    }\n",
              "\n",
              "    .dataframe tbody tr th {\n",
              "        vertical-align: top;\n",
              "    }\n",
              "\n",
              "    .dataframe thead th {\n",
              "        text-align: right;\n",
              "    }\n",
              "</style>\n",
              "<table border=\"1\" class=\"dataframe\">\n",
              "  <thead>\n",
              "    <tr style=\"text-align: right;\">\n",
              "      <th></th>\n",
              "      <th>school</th>\n",
              "      <th>sex</th>\n",
              "      <th>age</th>\n",
              "      <th>address</th>\n",
              "      <th>famsize</th>\n",
              "      <th>Pstatus</th>\n",
              "      <th>Medu</th>\n",
              "      <th>Fedu</th>\n",
              "      <th>Mjob</th>\n",
              "      <th>Fjob</th>\n",
              "      <th>reason</th>\n",
              "      <th>guardian</th>\n",
              "      <th>traveltime</th>\n",
              "      <th>studytime</th>\n",
              "      <th>failures</th>\n",
              "      <th>schoolsup</th>\n",
              "      <th>famsup</th>\n",
              "      <th>paid</th>\n",
              "      <th>activities</th>\n",
              "      <th>nursery</th>\n",
              "      <th>higher</th>\n",
              "      <th>internet</th>\n",
              "      <th>romantic</th>\n",
              "      <th>famrel</th>\n",
              "      <th>freetime</th>\n",
              "      <th>goout</th>\n",
              "      <th>Dalc</th>\n",
              "      <th>Walc</th>\n",
              "      <th>health</th>\n",
              "      <th>absences</th>\n",
              "      <th>G1</th>\n",
              "      <th>G2</th>\n",
              "      <th>G3</th>\n",
              "    </tr>\n",
              "  </thead>\n",
              "  <tbody>\n",
              "    <tr>\n",
              "      <th>0</th>\n",
              "      <td>GP</td>\n",
              "      <td>F</td>\n",
              "      <td>18</td>\n",
              "      <td>U</td>\n",
              "      <td>GT3</td>\n",
              "      <td>A</td>\n",
              "      <td>4</td>\n",
              "      <td>4</td>\n",
              "      <td>at_home</td>\n",
              "      <td>teacher</td>\n",
              "      <td>course</td>\n",
              "      <td>mother</td>\n",
              "      <td>2</td>\n",
              "      <td>2</td>\n",
              "      <td>0</td>\n",
              "      <td>yes</td>\n",
              "      <td>no</td>\n",
              "      <td>no</td>\n",
              "      <td>no</td>\n",
              "      <td>yes</td>\n",
              "      <td>yes</td>\n",
              "      <td>no</td>\n",
              "      <td>no</td>\n",
              "      <td>4</td>\n",
              "      <td>3</td>\n",
              "      <td>4</td>\n",
              "      <td>1</td>\n",
              "      <td>1</td>\n",
              "      <td>3</td>\n",
              "      <td>6</td>\n",
              "      <td>5</td>\n",
              "      <td>6</td>\n",
              "      <td>6</td>\n",
              "    </tr>\n",
              "    <tr>\n",
              "      <th>1</th>\n",
              "      <td>GP</td>\n",
              "      <td>F</td>\n",
              "      <td>17</td>\n",
              "      <td>U</td>\n",
              "      <td>GT3</td>\n",
              "      <td>T</td>\n",
              "      <td>1</td>\n",
              "      <td>1</td>\n",
              "      <td>at_home</td>\n",
              "      <td>other</td>\n",
              "      <td>course</td>\n",
              "      <td>father</td>\n",
              "      <td>1</td>\n",
              "      <td>2</td>\n",
              "      <td>0</td>\n",
              "      <td>no</td>\n",
              "      <td>yes</td>\n",
              "      <td>no</td>\n",
              "      <td>no</td>\n",
              "      <td>no</td>\n",
              "      <td>yes</td>\n",
              "      <td>yes</td>\n",
              "      <td>no</td>\n",
              "      <td>5</td>\n",
              "      <td>3</td>\n",
              "      <td>3</td>\n",
              "      <td>1</td>\n",
              "      <td>1</td>\n",
              "      <td>3</td>\n",
              "      <td>4</td>\n",
              "      <td>5</td>\n",
              "      <td>5</td>\n",
              "      <td>6</td>\n",
              "    </tr>\n",
              "    <tr>\n",
              "      <th>2</th>\n",
              "      <td>GP</td>\n",
              "      <td>F</td>\n",
              "      <td>15</td>\n",
              "      <td>U</td>\n",
              "      <td>LE3</td>\n",
              "      <td>T</td>\n",
              "      <td>1</td>\n",
              "      <td>1</td>\n",
              "      <td>at_home</td>\n",
              "      <td>other</td>\n",
              "      <td>other</td>\n",
              "      <td>mother</td>\n",
              "      <td>1</td>\n",
              "      <td>2</td>\n",
              "      <td>3</td>\n",
              "      <td>yes</td>\n",
              "      <td>no</td>\n",
              "      <td>yes</td>\n",
              "      <td>no</td>\n",
              "      <td>yes</td>\n",
              "      <td>yes</td>\n",
              "      <td>yes</td>\n",
              "      <td>no</td>\n",
              "      <td>4</td>\n",
              "      <td>3</td>\n",
              "      <td>2</td>\n",
              "      <td>2</td>\n",
              "      <td>3</td>\n",
              "      <td>3</td>\n",
              "      <td>10</td>\n",
              "      <td>7</td>\n",
              "      <td>8</td>\n",
              "      <td>10</td>\n",
              "    </tr>\n",
              "    <tr>\n",
              "      <th>3</th>\n",
              "      <td>GP</td>\n",
              "      <td>F</td>\n",
              "      <td>15</td>\n",
              "      <td>U</td>\n",
              "      <td>GT3</td>\n",
              "      <td>T</td>\n",
              "      <td>4</td>\n",
              "      <td>2</td>\n",
              "      <td>health</td>\n",
              "      <td>services</td>\n",
              "      <td>home</td>\n",
              "      <td>mother</td>\n",
              "      <td>1</td>\n",
              "      <td>3</td>\n",
              "      <td>0</td>\n",
              "      <td>no</td>\n",
              "      <td>yes</td>\n",
              "      <td>yes</td>\n",
              "      <td>yes</td>\n",
              "      <td>yes</td>\n",
              "      <td>yes</td>\n",
              "      <td>yes</td>\n",
              "      <td>yes</td>\n",
              "      <td>3</td>\n",
              "      <td>2</td>\n",
              "      <td>2</td>\n",
              "      <td>1</td>\n",
              "      <td>1</td>\n",
              "      <td>5</td>\n",
              "      <td>2</td>\n",
              "      <td>15</td>\n",
              "      <td>14</td>\n",
              "      <td>15</td>\n",
              "    </tr>\n",
              "    <tr>\n",
              "      <th>4</th>\n",
              "      <td>GP</td>\n",
              "      <td>F</td>\n",
              "      <td>16</td>\n",
              "      <td>U</td>\n",
              "      <td>GT3</td>\n",
              "      <td>T</td>\n",
              "      <td>3</td>\n",
              "      <td>3</td>\n",
              "      <td>other</td>\n",
              "      <td>other</td>\n",
              "      <td>home</td>\n",
              "      <td>father</td>\n",
              "      <td>1</td>\n",
              "      <td>2</td>\n",
              "      <td>0</td>\n",
              "      <td>no</td>\n",
              "      <td>yes</td>\n",
              "      <td>yes</td>\n",
              "      <td>no</td>\n",
              "      <td>yes</td>\n",
              "      <td>yes</td>\n",
              "      <td>no</td>\n",
              "      <td>no</td>\n",
              "      <td>4</td>\n",
              "      <td>3</td>\n",
              "      <td>2</td>\n",
              "      <td>1</td>\n",
              "      <td>2</td>\n",
              "      <td>5</td>\n",
              "      <td>4</td>\n",
              "      <td>6</td>\n",
              "      <td>10</td>\n",
              "      <td>10</td>\n",
              "    </tr>\n",
              "    <tr>\n",
              "      <th>5</th>\n",
              "      <td>GP</td>\n",
              "      <td>M</td>\n",
              "      <td>16</td>\n",
              "      <td>U</td>\n",
              "      <td>LE3</td>\n",
              "      <td>T</td>\n",
              "      <td>4</td>\n",
              "      <td>3</td>\n",
              "      <td>services</td>\n",
              "      <td>other</td>\n",
              "      <td>reputation</td>\n",
              "      <td>mother</td>\n",
              "      <td>1</td>\n",
              "      <td>2</td>\n",
              "      <td>0</td>\n",
              "      <td>no</td>\n",
              "      <td>yes</td>\n",
              "      <td>yes</td>\n",
              "      <td>yes</td>\n",
              "      <td>yes</td>\n",
              "      <td>yes</td>\n",
              "      <td>yes</td>\n",
              "      <td>no</td>\n",
              "      <td>5</td>\n",
              "      <td>4</td>\n",
              "      <td>2</td>\n",
              "      <td>1</td>\n",
              "      <td>2</td>\n",
              "      <td>5</td>\n",
              "      <td>10</td>\n",
              "      <td>15</td>\n",
              "      <td>15</td>\n",
              "      <td>15</td>\n",
              "    </tr>\n",
              "    <tr>\n",
              "      <th>6</th>\n",
              "      <td>GP</td>\n",
              "      <td>M</td>\n",
              "      <td>16</td>\n",
              "      <td>U</td>\n",
              "      <td>LE3</td>\n",
              "      <td>T</td>\n",
              "      <td>2</td>\n",
              "      <td>2</td>\n",
              "      <td>other</td>\n",
              "      <td>other</td>\n",
              "      <td>home</td>\n",
              "      <td>mother</td>\n",
              "      <td>1</td>\n",
              "      <td>2</td>\n",
              "      <td>0</td>\n",
              "      <td>no</td>\n",
              "      <td>no</td>\n",
              "      <td>no</td>\n",
              "      <td>no</td>\n",
              "      <td>yes</td>\n",
              "      <td>yes</td>\n",
              "      <td>yes</td>\n",
              "      <td>no</td>\n",
              "      <td>4</td>\n",
              "      <td>4</td>\n",
              "      <td>4</td>\n",
              "      <td>1</td>\n",
              "      <td>1</td>\n",
              "      <td>3</td>\n",
              "      <td>0</td>\n",
              "      <td>12</td>\n",
              "      <td>12</td>\n",
              "      <td>11</td>\n",
              "    </tr>\n",
              "    <tr>\n",
              "      <th>7</th>\n",
              "      <td>GP</td>\n",
              "      <td>F</td>\n",
              "      <td>17</td>\n",
              "      <td>U</td>\n",
              "      <td>GT3</td>\n",
              "      <td>A</td>\n",
              "      <td>4</td>\n",
              "      <td>4</td>\n",
              "      <td>other</td>\n",
              "      <td>teacher</td>\n",
              "      <td>home</td>\n",
              "      <td>mother</td>\n",
              "      <td>2</td>\n",
              "      <td>2</td>\n",
              "      <td>0</td>\n",
              "      <td>yes</td>\n",
              "      <td>yes</td>\n",
              "      <td>no</td>\n",
              "      <td>no</td>\n",
              "      <td>yes</td>\n",
              "      <td>yes</td>\n",
              "      <td>no</td>\n",
              "      <td>no</td>\n",
              "      <td>4</td>\n",
              "      <td>1</td>\n",
              "      <td>4</td>\n",
              "      <td>1</td>\n",
              "      <td>1</td>\n",
              "      <td>1</td>\n",
              "      <td>6</td>\n",
              "      <td>6</td>\n",
              "      <td>5</td>\n",
              "      <td>6</td>\n",
              "    </tr>\n",
              "    <tr>\n",
              "      <th>8</th>\n",
              "      <td>GP</td>\n",
              "      <td>M</td>\n",
              "      <td>15</td>\n",
              "      <td>U</td>\n",
              "      <td>LE3</td>\n",
              "      <td>A</td>\n",
              "      <td>3</td>\n",
              "      <td>2</td>\n",
              "      <td>services</td>\n",
              "      <td>other</td>\n",
              "      <td>home</td>\n",
              "      <td>mother</td>\n",
              "      <td>1</td>\n",
              "      <td>2</td>\n",
              "      <td>0</td>\n",
              "      <td>no</td>\n",
              "      <td>yes</td>\n",
              "      <td>yes</td>\n",
              "      <td>no</td>\n",
              "      <td>yes</td>\n",
              "      <td>yes</td>\n",
              "      <td>yes</td>\n",
              "      <td>no</td>\n",
              "      <td>4</td>\n",
              "      <td>2</td>\n",
              "      <td>2</td>\n",
              "      <td>1</td>\n",
              "      <td>1</td>\n",
              "      <td>1</td>\n",
              "      <td>0</td>\n",
              "      <td>16</td>\n",
              "      <td>18</td>\n",
              "      <td>19</td>\n",
              "    </tr>\n",
              "    <tr>\n",
              "      <th>9</th>\n",
              "      <td>GP</td>\n",
              "      <td>M</td>\n",
              "      <td>15</td>\n",
              "      <td>U</td>\n",
              "      <td>GT3</td>\n",
              "      <td>T</td>\n",
              "      <td>3</td>\n",
              "      <td>4</td>\n",
              "      <td>other</td>\n",
              "      <td>other</td>\n",
              "      <td>home</td>\n",
              "      <td>mother</td>\n",
              "      <td>1</td>\n",
              "      <td>2</td>\n",
              "      <td>0</td>\n",
              "      <td>no</td>\n",
              "      <td>yes</td>\n",
              "      <td>yes</td>\n",
              "      <td>yes</td>\n",
              "      <td>yes</td>\n",
              "      <td>yes</td>\n",
              "      <td>yes</td>\n",
              "      <td>no</td>\n",
              "      <td>5</td>\n",
              "      <td>5</td>\n",
              "      <td>1</td>\n",
              "      <td>1</td>\n",
              "      <td>1</td>\n",
              "      <td>5</td>\n",
              "      <td>0</td>\n",
              "      <td>14</td>\n",
              "      <td>15</td>\n",
              "      <td>15</td>\n",
              "    </tr>\n",
              "  </tbody>\n",
              "</table>\n",
              "</div>"
            ],
            "text/plain": [
              "  school sex  age address famsize Pstatus  ...  Walc  health absences  G1  G2  G3\n",
              "0     GP   F   18       U     GT3       A  ...     1       3        6   5   6   6\n",
              "1     GP   F   17       U     GT3       T  ...     1       3        4   5   5   6\n",
              "2     GP   F   15       U     LE3       T  ...     3       3       10   7   8  10\n",
              "3     GP   F   15       U     GT3       T  ...     1       5        2  15  14  15\n",
              "4     GP   F   16       U     GT3       T  ...     2       5        4   6  10  10\n",
              "5     GP   M   16       U     LE3       T  ...     2       5       10  15  15  15\n",
              "6     GP   M   16       U     LE3       T  ...     1       3        0  12  12  11\n",
              "7     GP   F   17       U     GT3       A  ...     1       1        6   6   5   6\n",
              "8     GP   M   15       U     LE3       A  ...     1       1        0  16  18  19\n",
              "9     GP   M   15       U     GT3       T  ...     1       5        0  14  15  15\n",
              "\n",
              "[10 rows x 33 columns]"
            ]
          },
          "metadata": {
            "tags": []
          },
          "execution_count": 7
        }
      ]
    },
    {
      "cell_type": "markdown",
      "metadata": {
        "id": "i2bal50yG_PZ"
      },
      "source": [
        "We are just going to consider the columns `G1` and `G3` for univariate linear regression\n",
        "\n",
        "$G3_i = G1_i  \\cdot \\theta_1 + \\theta_0$"
      ]
    },
    {
      "cell_type": "code",
      "metadata": {
        "colab": {
          "base_uri": "https://localhost:8080/",
          "height": 203
        },
        "id": "Yw0PNCuTSEDC",
        "outputId": "9b844275-4d4b-4d35-cfa2-da02061e8aaf"
      },
      "source": [
        "uniMathData = mathData[['G1', 'G3']]\n",
        "uniMathData.head(5)"
      ],
      "execution_count": 8,
      "outputs": [
        {
          "output_type": "execute_result",
          "data": {
            "text/html": [
              "<div>\n",
              "<style scoped>\n",
              "    .dataframe tbody tr th:only-of-type {\n",
              "        vertical-align: middle;\n",
              "    }\n",
              "\n",
              "    .dataframe tbody tr th {\n",
              "        vertical-align: top;\n",
              "    }\n",
              "\n",
              "    .dataframe thead th {\n",
              "        text-align: right;\n",
              "    }\n",
              "</style>\n",
              "<table border=\"1\" class=\"dataframe\">\n",
              "  <thead>\n",
              "    <tr style=\"text-align: right;\">\n",
              "      <th></th>\n",
              "      <th>G1</th>\n",
              "      <th>G3</th>\n",
              "    </tr>\n",
              "  </thead>\n",
              "  <tbody>\n",
              "    <tr>\n",
              "      <th>0</th>\n",
              "      <td>5</td>\n",
              "      <td>6</td>\n",
              "    </tr>\n",
              "    <tr>\n",
              "      <th>1</th>\n",
              "      <td>5</td>\n",
              "      <td>6</td>\n",
              "    </tr>\n",
              "    <tr>\n",
              "      <th>2</th>\n",
              "      <td>7</td>\n",
              "      <td>10</td>\n",
              "    </tr>\n",
              "    <tr>\n",
              "      <th>3</th>\n",
              "      <td>15</td>\n",
              "      <td>15</td>\n",
              "    </tr>\n",
              "    <tr>\n",
              "      <th>4</th>\n",
              "      <td>6</td>\n",
              "      <td>10</td>\n",
              "    </tr>\n",
              "  </tbody>\n",
              "</table>\n",
              "</div>"
            ],
            "text/plain": [
              "   G1  G3\n",
              "0   5   6\n",
              "1   5   6\n",
              "2   7  10\n",
              "3  15  15\n",
              "4   6  10"
            ]
          },
          "metadata": {
            "tags": []
          },
          "execution_count": 8
        }
      ]
    },
    {
      "cell_type": "code",
      "metadata": {
        "id": "eyzP9mL4Hmb5"
      },
      "source": [
        "uniMathData.to_csv('univariate_MathData_2.csv')"
      ],
      "execution_count": 9,
      "outputs": []
    },
    {
      "cell_type": "code",
      "metadata": {
        "colab": {
          "base_uri": "https://localhost:8080/"
        },
        "id": "I-3qK_nNxnTA",
        "outputId": "9477a14a-252f-4ec9-f1cb-d57dd9a27bf9"
      },
      "source": [
        "ls"
      ],
      "execution_count": 10,
      "outputs": [
        {
          "output_type": "stream",
          "text": [
            "student-mat.csv  student-por.csv  univariate_MathData_2.csv\n",
            "student-merge.R  student.txt\n"
          ],
          "name": "stdout"
        }
      ]
    },
    {
      "cell_type": "markdown",
      "metadata": {
        "id": "ImV3p6AKxszU"
      },
      "source": [
        "## Data visualization"
      ]
    },
    {
      "cell_type": "code",
      "metadata": {
        "colab": {
          "base_uri": "https://localhost:8080/",
          "height": 157
        },
        "id": "RqumcsZLxq4v",
        "outputId": "e9787641-3618-4836-fc6d-8e951aa033ce"
      },
      "source": [
        "import seaborn as sns\n",
        "sns.palplot(sns.color_palette('PuOr')) #Purple to Orange colors\n",
        "pal = sns.color_palette('PuOr', 6) #print 6 color shades from Purple to Orange\n",
        "pal.as_hex() #set hex code values for colors\n",
        "\n",
        "import matplotlib.pyplot as plt\n",
        "plt.style.use(['seaborn'])\n",
        "sns_colors = ['#c6690c', '#664697'] #orange Purple hex codes\n",
        "sns.set_palette(sns_colors) #set the palette as sns_colors \n",
        "sns.palplot(sns.color_palette(sns_colors)) #plot the color codes"
      ],
      "execution_count": 11,
      "outputs": [
        {
          "output_type": "display_data",
          "data": {
            "image/png": "[encoded data removed]",
            "text/plain": [
              "<Figure size 432x72 with 1 Axes>"
            ]
          },
          "metadata": {
            "tags": [],
            "needs_background": "light"
          }
        },
        {
          "output_type": "display_data",
          "data": {
            "image/png": "[encoded data removed]",
            "text/plain": [
              "<Figure size 144x72 with 1 Axes>"
            ]
          },
          "metadata": {
            "tags": []
          }
        }
      ]
    },
    {
      "cell_type": "code",
      "metadata": {
        "colab": {
          "base_uri": "https://localhost:8080/"
        },
        "id": "A6MT5E8Fy7MZ",
        "outputId": "f6e187b7-141b-4301-d9a3-facc06bb5fdd"
      },
      "source": [
        "uniMathData.columns #columns in the dataframe"
      ],
      "execution_count": 12,
      "outputs": [
        {
          "output_type": "execute_result",
          "data": {
            "text/plain": [
              "Index(['G1', 'G3'], dtype='object')"
            ]
          },
          "metadata": {
            "tags": []
          },
          "execution_count": 12
        }
      ]
    },
    {
      "cell_type": "code",
      "metadata": {
        "colab": {
          "base_uri": "https://localhost:8080/",
          "height": 390
        },
        "id": "PrsTwdHHzBbk",
        "outputId": "38d38169-e7e5-403e-e988-91159b07adc2"
      },
      "source": [
        "#pairplot for all the values\n",
        "\n",
        "sns.pairplot(uniMathData,\n",
        "             x_vars = ['G1', 'G3'],\n",
        "             y_vars =  ['G1', 'G3'],\n",
        "       diag_kind='kde'\n",
        "             )"
      ],
      "execution_count": 13,
      "outputs": [
        {
          "output_type": "execute_result",
          "data": {
            "text/plain": [
              "<seaborn.axisgrid.PairGrid at 0x7f7d14aa5c50>"
            ]
          },
          "metadata": {
            "tags": []
          },
          "execution_count": 13
        },
        {
          "output_type": "display_data",
          "data": {
            "image/png": "[encoded data removed]",
            "text/plain": [
              "<Figure size 360x360 with 6 Axes>"
            ]
          },
          "metadata": {
            "tags": []
          }
        }
      ]
    },
    {
      "cell_type": "markdown",
      "metadata": {
        "id": "Klm33YcpKZkl"
      },
      "source": [
        "## Data Splits"
      ]
    },
    {
      "cell_type": "code",
      "metadata": {
        "colab": {
          "base_uri": "https://localhost:8080/"
        },
        "id": "UwrSOCKS1NhN",
        "outputId": "8c5cfb3f-d285-4f4e-e697-a4bb9e7c09e8"
      },
      "source": [
        "#80-20 train-test percent split\n",
        "\n",
        "trainDataset = uniMathData.sample(frac=0.8, random_state=0) \n",
        "testDataset = uniMathData.drop(trainDataset.index)\n",
        "\n",
        "print(trainDataset.head())\n",
        "print(testDataset.head())"
      ],
      "execution_count": 14,
      "outputs": [
        {
          "output_type": "stream",
          "text": [
            "     G1  G3\n",
            "329  14  14\n",
            "318  11  10\n",
            "317   9   9\n",
            "65   16  15\n",
            "59   15  16\n",
            "    G1  G3\n",
            "9   14  15\n",
            "25   6   8\n",
            "28  11  11\n",
            "31  17  17\n",
            "32  17  16\n"
          ],
          "name": "stdout"
        }
      ]
    },
    {
      "cell_type": "code",
      "metadata": {
        "colab": {
          "base_uri": "https://localhost:8080/"
        },
        "id": "YWO2xRV53wV-",
        "outputId": "17573ce9-a610-43ce-fee4-c44869a6af3a"
      },
      "source": [
        "print(trainDataset.shape)\n",
        "print(testDataset.shape)"
      ],
      "execution_count": 15,
      "outputs": [
        {
          "output_type": "stream",
          "text": [
            "(316, 2)\n",
            "(79, 2)\n"
          ],
          "name": "stdout"
        }
      ]
    },
    {
      "cell_type": "code",
      "metadata": {
        "colab": {
          "base_uri": "https://localhost:8080/"
        },
        "id": "OmDTbvMC32hg",
        "outputId": "c50f7776-1d3a-4b4a-ca2f-4d5e34b4c94a"
      },
      "source": [
        "#copy the trainDataset dataframe for getting the features\n",
        "\n",
        "trainFeatures = trainDataset.copy()\n",
        "testFeatures = testDataset.copy()\n",
        "\n",
        "print(trainFeatures.head())\n",
        "print(testFeatures.head())"
      ],
      "execution_count": 16,
      "outputs": [
        {
          "output_type": "stream",
          "text": [
            "     G1  G3\n",
            "329  14  14\n",
            "318  11  10\n",
            "317   9   9\n",
            "65   16  15\n",
            "59   15  16\n",
            "    G1  G3\n",
            "9   14  15\n",
            "25   6   8\n",
            "28  11  11\n",
            "31  17  17\n",
            "32  17  16\n"
          ],
          "name": "stdout"
        }
      ]
    },
    {
      "cell_type": "code",
      "metadata": {
        "colab": {
          "base_uri": "https://localhost:8080/"
        },
        "id": "jSR0_uni4ayh",
        "outputId": "4f395435-0ae8-4672-e094-de119e5effa9"
      },
      "source": [
        "#removing the G3 column and saving it into the labels variable\n",
        "\n",
        "trainLabels = trainFeatures.pop('G3')\n",
        "testLabels = testFeatures.pop('G3')\n",
        "\n",
        "print(trainLabels.head())\n",
        "print(testLabels.head())"
      ],
      "execution_count": 17,
      "outputs": [
        {
          "output_type": "stream",
          "text": [
            "329    14\n",
            "318    10\n",
            "317     9\n",
            "65     15\n",
            "59     16\n",
            "Name: G3, dtype: int64\n",
            "9     15\n",
            "25     8\n",
            "28    11\n",
            "31    17\n",
            "32    16\n",
            "Name: G3, dtype: int64\n"
          ],
          "name": "stdout"
        }
      ]
    },
    {
      "cell_type": "code",
      "metadata": {
        "colab": {
          "base_uri": "https://localhost:8080/"
        },
        "id": "HnGSqb-q4wk8",
        "outputId": "c23a6407-f55d-4515-e6ef-02b245d29c94"
      },
      "source": [
        "print(trainFeatures.head())\n",
        "print(testFeatures.head())"
      ],
      "execution_count": 18,
      "outputs": [
        {
          "output_type": "stream",
          "text": [
            "     G1\n",
            "329  14\n",
            "318  11\n",
            "317   9\n",
            "65   16\n",
            "59   15\n",
            "    G1\n",
            "9   14\n",
            "25   6\n",
            "28  11\n",
            "31  17\n",
            "32  17\n"
          ],
          "name": "stdout"
        }
      ]
    },
    {
      "cell_type": "code",
      "metadata": {
        "id": "XPTSq34jk4o_"
      },
      "source": [
        "# univariate -> num(features) = 1\n",
        "# multvariate -> num(features) > 1 = 11\n",
        "\n",
        "\n",
        "model = tf.keras.Sequential([\n",
        "                             tf.keras.layers.Dense(1)\n",
        "\n",
        "])"
      ],
      "execution_count": 19,
      "outputs": []
    },
    {
      "cell_type": "code",
      "metadata": {
        "id": "4C4GKBdE6iCE"
      },
      "source": [
        "model.compile(\n",
        "    loss = 'mean_absolute_error', #minimizing the MAE loss\n",
        "    optimizer = tf.keras.optimizers.Adam(0.001), #learning rate specified as 0.001\n",
        "    # optimizer = 'adam', #takes the default learning rate\n",
        "    metrics = ['mae', 'mse'] #meanSquare and meanAbsolute error metrics\n",
        ")"
      ],
      "execution_count": 20,
      "outputs": []
    },
    {
      "cell_type": "code",
      "metadata": {
        "colab": {
          "base_uri": "https://localhost:8080/"
        },
        "id": "d_A7DrhB6zvm",
        "outputId": "5d0c7af5-0e2f-4926-ab6a-7548ecf0482b"
      },
      "source": [
        "numEpochs = 300\n",
        "history = model.fit(x = trainFeatures, y = trainLabels, validation_data = (testFeatures, testLabels), epochs = numEpochs)"
      ],
      "execution_count": 21,
      "outputs": [
        {
          "output_type": "stream",
          "text": [
            "Epoch 1/300\n",
            "10/10 [==============================] - 1s 17ms/step - loss: 11.2427 - mae: 11.2427 - mse: 149.3895 - val_loss: 11.7918 - val_mae: 11.7918 - val_mse: 162.2883\n",
            "Epoch 2/300\n",
            "10/10 [==============================] - 0s 3ms/step - loss: 11.1251 - mae: 11.1251 - mse: 146.5312 - val_loss: 11.6672 - val_mae: 11.6672 - val_mse: 159.0766\n",
            "Epoch 3/300\n",
            "10/10 [==============================] - 0s 4ms/step - loss: 11.0072 - mae: 11.0072 - mse: 143.6517 - val_loss: 11.5426 - val_mae: 11.5426 - val_mse: 155.9000\n",
            "Epoch 4/300\n",
            "10/10 [==============================] - 0s 4ms/step - loss: 10.8898 - mae: 10.8898 - mse: 140.8545 - val_loss: 11.4178 - val_mae: 11.4178 - val_mse: 152.7542\n",
            "Epoch 5/300\n",
            "10/10 [==============================] - 0s 3ms/step - loss: 10.7721 - mae: 10.7721 - mse: 138.0541 - val_loss: 11.2932 - val_mae: 11.2932 - val_mse: 149.6446\n",
            "Epoch 6/300\n",
            "10/10 [==============================] - 0s 3ms/step - loss: 10.6543 - mae: 10.6543 - mse: 135.2575 - val_loss: 11.1688 - val_mae: 11.1688 - val_mse: 146.5721\n",
            "Epoch 7/300\n",
            "10/10 [==============================] - 0s 3ms/step - loss: 10.5369 - mae: 10.5369 - mse: 132.5595 - val_loss: 11.0441 - val_mae: 11.0441 - val_mse: 143.5275\n",
            "Epoch 8/300\n",
            "10/10 [==============================] - 0s 3ms/step - loss: 10.4197 - mae: 10.4197 - mse: 129.8753 - val_loss: 10.9196 - val_mae: 10.9196 - val_mse: 140.5154\n",
            "Epoch 9/300\n",
            "10/10 [==============================] - 0s 3ms/step - loss: 10.3083 - mae: 10.3083 - mse: 127.1993 - val_loss: 10.8112 - val_mae: 10.8112 - val_mse: 137.6235\n",
            "Epoch 10/300\n",
            "10/10 [==============================] - 0s 3ms/step - loss: 10.2122 - mae: 10.2122 - mse: 124.6924 - val_loss: 10.7101 - val_mae: 10.7101 - val_mse: 134.9206\n",
            "Epoch 11/300\n",
            "10/10 [==============================] - 0s 3ms/step - loss: 10.1205 - mae: 10.1205 - mse: 122.2926 - val_loss: 10.6117 - val_mae: 10.6117 - val_mse: 132.3159\n",
            "Epoch 12/300\n",
            "10/10 [==============================] - 0s 3ms/step - loss: 10.0309 - mae: 10.0309 - mse: 120.0046 - val_loss: 10.5126 - val_mae: 10.5126 - val_mse: 129.7218\n",
            "Epoch 13/300\n",
            "10/10 [==============================] - 0s 3ms/step - loss: 9.9409 - mae: 9.9409 - mse: 117.7188 - val_loss: 10.4127 - val_mae: 10.4127 - val_mse: 127.1342\n",
            "Epoch 14/300\n",
            "10/10 [==============================] - 0s 3ms/step - loss: 9.8474 - mae: 9.8474 - mse: 115.3542 - val_loss: 10.3149 - val_mae: 10.3149 - val_mse: 124.6274\n",
            "Epoch 15/300\n",
            "10/10 [==============================] - 0s 2ms/step - loss: 9.7596 - mae: 9.7596 - mse: 113.1721 - val_loss: 10.2126 - val_mae: 10.2126 - val_mse: 122.0323\n",
            "Epoch 16/300\n",
            "10/10 [==============================] - 0s 3ms/step - loss: 9.6660 - mae: 9.6660 - mse: 110.8482 - val_loss: 10.1116 - val_mae: 10.1116 - val_mse: 119.4987\n",
            "Epoch 17/300\n",
            "10/10 [==============================] - 0s 3ms/step - loss: 9.5724 - mae: 9.5724 - mse: 108.5617 - val_loss: 10.0114 - val_mae: 10.0114 - val_mse: 117.0126\n",
            "Epoch 18/300\n",
            "10/10 [==============================] - 0s 3ms/step - loss: 9.4820 - mae: 9.4820 - mse: 106.3859 - val_loss: 9.9083 - val_mae: 9.9083 - val_mse: 114.4832\n",
            "Epoch 19/300\n",
            "10/10 [==============================] - 0s 3ms/step - loss: 9.3869 - mae: 9.3869 - mse: 104.1359 - val_loss: 9.8067 - val_mae: 9.8067 - val_mse: 112.0192\n",
            "Epoch 20/300\n",
            "10/10 [==============================] - 0s 2ms/step - loss: 9.2937 - mae: 9.2937 - mse: 101.9383 - val_loss: 9.7041 - val_mae: 9.7041 - val_mse: 109.5618\n",
            "Epoch 21/300\n",
            "10/10 [==============================] - 0s 3ms/step - loss: 9.2005 - mae: 9.2005 - mse: 99.7508 - val_loss: 9.6004 - val_mae: 9.6004 - val_mse: 107.1063\n",
            "Epoch 22/300\n",
            "10/10 [==============================] - 0s 5ms/step - loss: 9.1048 - mae: 9.1048 - mse: 97.5786 - val_loss: 9.4979 - val_mae: 9.4979 - val_mse: 104.7066\n",
            "Epoch 23/300\n",
            "10/10 [==============================] - 0s 4ms/step - loss: 9.0114 - mae: 9.0114 - mse: 95.4189 - val_loss: 9.3938 - val_mae: 9.3938 - val_mse: 102.3006\n",
            "Epoch 24/300\n",
            "10/10 [==============================] - 0s 3ms/step - loss: 8.9158 - mae: 8.9158 - mse: 93.2813 - val_loss: 9.2902 - val_mae: 9.2902 - val_mse: 99.9356\n",
            "Epoch 25/300\n",
            "10/10 [==============================] - 0s 3ms/step - loss: 8.8212 - mae: 8.8212 - mse: 91.2118 - val_loss: 9.1856 - val_mae: 9.1856 - val_mse: 97.5794\n",
            "Epoch 26/300\n",
            "10/10 [==============================] - 0s 3ms/step - loss: 8.7248 - mae: 8.7248 - mse: 89.0747 - val_loss: 9.0820 - val_mae: 9.0820 - val_mse: 95.2726\n",
            "Epoch 27/300\n",
            "10/10 [==============================] - 0s 3ms/step - loss: 8.6299 - mae: 8.6299 - mse: 87.0403 - val_loss: 8.9773 - val_mae: 8.9773 - val_mse: 92.9730\n",
            "Epoch 28/300\n",
            "10/10 [==============================] - 0s 3ms/step - loss: 8.5346 - mae: 8.5346 - mse: 84.9936 - val_loss: 8.8721 - val_mae: 8.8721 - val_mse: 90.6930\n",
            "Epoch 29/300\n",
            "10/10 [==============================] - 0s 4ms/step - loss: 8.4377 - mae: 8.4377 - mse: 82.9892 - val_loss: 8.7679 - val_mae: 8.7679 - val_mse: 88.4626\n",
            "Epoch 30/300\n",
            "10/10 [==============================] - 0s 3ms/step - loss: 8.3443 - mae: 8.3443 - mse: 80.9995 - val_loss: 8.6609 - val_mae: 8.6609 - val_mse: 86.2048\n",
            "Epoch 31/300\n",
            "10/10 [==============================] - 0s 3ms/step - loss: 8.2456 - mae: 8.2456 - mse: 78.9946 - val_loss: 8.5567 - val_mae: 8.5567 - val_mse: 84.0376\n",
            "Epoch 32/300\n",
            "10/10 [==============================] - 0s 5ms/step - loss: 8.1503 - mae: 8.1503 - mse: 77.0610 - val_loss: 8.4516 - val_mae: 8.4516 - val_mse: 81.8796\n",
            "Epoch 33/300\n",
            "10/10 [==============================] - 0s 3ms/step - loss: 8.0538 - mae: 8.0538 - mse: 75.1406 - val_loss: 8.3465 - val_mae: 8.3465 - val_mse: 79.7533\n",
            "Epoch 34/300\n",
            "10/10 [==============================] - 0s 3ms/step - loss: 7.9587 - mae: 7.9587 - mse: 73.2599 - val_loss: 8.2400 - val_mae: 8.2400 - val_mse: 77.6309\n",
            "Epoch 35/300\n",
            "10/10 [==============================] - 0s 3ms/step - loss: 7.8606 - mae: 7.8606 - mse: 71.3520 - val_loss: 8.1353 - val_mae: 8.1353 - val_mse: 75.5719\n",
            "Epoch 36/300\n",
            "10/10 [==============================] - 0s 3ms/step - loss: 7.7654 - mae: 7.7654 - mse: 69.5486 - val_loss: 8.0290 - val_mae: 8.0290 - val_mse: 73.5139\n",
            "Epoch 37/300\n",
            "10/10 [==============================] - 0s 3ms/step - loss: 7.6677 - mae: 7.6677 - mse: 67.7219 - val_loss: 7.9235 - val_mae: 7.9235 - val_mse: 71.5022\n",
            "Epoch 38/300\n",
            "10/10 [==============================] - 0s 3ms/step - loss: 7.5720 - mae: 7.5720 - mse: 65.9476 - val_loss: 7.8168 - val_mae: 7.8168 - val_mse: 69.4986\n",
            "Epoch 39/300\n",
            "10/10 [==============================] - 0s 3ms/step - loss: 7.4751 - mae: 7.4751 - mse: 64.1712 - val_loss: 7.7103 - val_mae: 7.7103 - val_mse: 67.5294\n",
            "Epoch 40/300\n",
            "10/10 [==============================] - 0s 3ms/step - loss: 7.3767 - mae: 7.3767 - mse: 62.4194 - val_loss: 7.6051 - val_mae: 7.6051 - val_mse: 65.6161\n",
            "Epoch 41/300\n",
            "10/10 [==============================] - 0s 3ms/step - loss: 7.2799 - mae: 7.2799 - mse: 60.7001 - val_loss: 7.4993 - val_mae: 7.4993 - val_mse: 63.7222\n",
            "Epoch 42/300\n",
            "10/10 [==============================] - 0s 3ms/step - loss: 7.1834 - mae: 7.1834 - mse: 59.0242 - val_loss: 7.3926 - val_mae: 7.3926 - val_mse: 61.8428\n",
            "Epoch 43/300\n",
            "10/10 [==============================] - 0s 3ms/step - loss: 7.0860 - mae: 7.0860 - mse: 57.3423 - val_loss: 7.2858 - val_mae: 7.2858 - val_mse: 59.9932\n",
            "Epoch 44/300\n",
            "10/10 [==============================] - 0s 3ms/step - loss: 6.9873 - mae: 6.9873 - mse: 55.6968 - val_loss: 7.1802 - val_mae: 7.1802 - val_mse: 58.1952\n",
            "Epoch 45/300\n",
            "10/10 [==============================] - 0s 4ms/step - loss: 6.8911 - mae: 6.8911 - mse: 54.1251 - val_loss: 7.0730 - val_mae: 7.0730 - val_mse: 56.4019\n",
            "Epoch 46/300\n",
            "10/10 [==============================] - 0s 4ms/step - loss: 6.7940 - mae: 6.7940 - mse: 52.5395 - val_loss: 6.9654 - val_mae: 6.9654 - val_mse: 54.6336\n",
            "Epoch 47/300\n",
            "10/10 [==============================] - 0s 3ms/step - loss: 6.6946 - mae: 6.6946 - mse: 50.9505 - val_loss: 6.8596 - val_mae: 6.8596 - val_mse: 52.9253\n",
            "Epoch 48/300\n",
            "10/10 [==============================] - 0s 3ms/step - loss: 6.5979 - mae: 6.5979 - mse: 49.4186 - val_loss: 6.7526 - val_mae: 6.7526 - val_mse: 51.2284\n",
            "Epoch 49/300\n",
            "10/10 [==============================] - 0s 3ms/step - loss: 6.4999 - mae: 6.4999 - mse: 47.9513 - val_loss: 6.6458 - val_mae: 6.6458 - val_mse: 49.5665\n",
            "Epoch 50/300\n",
            "10/10 [==============================] - 0s 3ms/step - loss: 6.4030 - mae: 6.4030 - mse: 46.4640 - val_loss: 6.5379 - val_mae: 6.5379 - val_mse: 47.9204\n",
            "Epoch 51/300\n",
            "10/10 [==============================] - 0s 3ms/step - loss: 6.3038 - mae: 6.3038 - mse: 44.9876 - val_loss: 6.4315 - val_mae: 6.4315 - val_mse: 46.3282\n",
            "Epoch 52/300\n",
            "10/10 [==============================] - 0s 3ms/step - loss: 6.2061 - mae: 6.2061 - mse: 43.5810 - val_loss: 6.3246 - val_mae: 6.3246 - val_mse: 44.7598\n",
            "Epoch 53/300\n",
            "10/10 [==============================] - 0s 3ms/step - loss: 6.1089 - mae: 6.1089 - mse: 42.1995 - val_loss: 6.2167 - val_mae: 6.2167 - val_mse: 43.2082\n",
            "Epoch 54/300\n",
            "10/10 [==============================] - 0s 3ms/step - loss: 6.0103 - mae: 6.0103 - mse: 40.8276 - val_loss: 6.1093 - val_mae: 6.1093 - val_mse: 41.6956\n",
            "Epoch 55/300\n",
            "10/10 [==============================] - 0s 3ms/step - loss: 5.9117 - mae: 5.9117 - mse: 39.4799 - val_loss: 6.0023 - val_mae: 6.0023 - val_mse: 40.2197\n",
            "Epoch 56/300\n",
            "10/10 [==============================] - 0s 3ms/step - loss: 5.8153 - mae: 5.8153 - mse: 38.1950 - val_loss: 5.8935 - val_mae: 5.8935 - val_mse: 38.7521\n",
            "Epoch 57/300\n",
            "10/10 [==============================] - 0s 3ms/step - loss: 5.7154 - mae: 5.7154 - mse: 36.8782 - val_loss: 5.7871 - val_mae: 5.7871 - val_mse: 37.3478\n",
            "Epoch 58/300\n",
            "10/10 [==============================] - 0s 3ms/step - loss: 5.6168 - mae: 5.6168 - mse: 35.6243 - val_loss: 5.6810 - val_mae: 5.6810 - val_mse: 35.9793\n",
            "Epoch 59/300\n",
            "10/10 [==============================] - 0s 3ms/step - loss: 5.5207 - mae: 5.5207 - mse: 34.4351 - val_loss: 5.5728 - val_mae: 5.5728 - val_mse: 34.6146\n",
            "Epoch 60/300\n",
            "10/10 [==============================] - 0s 3ms/step - loss: 5.4222 - mae: 5.4222 - mse: 33.2292 - val_loss: 5.4646 - val_mae: 5.4646 - val_mse: 33.2836\n",
            "Epoch 61/300\n",
            "10/10 [==============================] - 0s 4ms/step - loss: 5.3227 - mae: 5.3227 - mse: 32.0429 - val_loss: 5.3578 - val_mae: 5.3578 - val_mse: 32.0004\n",
            "Epoch 62/300\n",
            "10/10 [==============================] - 0s 5ms/step - loss: 5.2241 - mae: 5.2241 - mse: 30.8943 - val_loss: 5.2513 - val_mae: 5.2513 - val_mse: 30.7512\n",
            "Epoch 63/300\n",
            "10/10 [==============================] - 0s 3ms/step - loss: 5.1298 - mae: 5.1298 - mse: 29.8330 - val_loss: 5.1405 - val_mae: 5.1405 - val_mse: 29.4864\n",
            "Epoch 64/300\n",
            "10/10 [==============================] - 0s 3ms/step - loss: 5.0264 - mae: 5.0264 - mse: 28.6787 - val_loss: 5.0353 - val_mae: 5.0353 - val_mse: 28.3152\n",
            "Epoch 65/300\n",
            "10/10 [==============================] - 0s 3ms/step - loss: 4.9308 - mae: 4.9308 - mse: 27.6578 - val_loss: 4.9269 - val_mae: 4.9269 - val_mse: 27.1420\n",
            "Epoch 66/300\n",
            "10/10 [==============================] - 0s 3ms/step - loss: 4.8310 - mae: 4.8310 - mse: 26.6161 - val_loss: 4.8202 - val_mae: 4.8202 - val_mse: 26.0172\n",
            "Epoch 67/300\n",
            "10/10 [==============================] - 0s 3ms/step - loss: 4.7335 - mae: 4.7335 - mse: 25.6342 - val_loss: 4.7133 - val_mae: 4.7133 - val_mse: 24.9113\n",
            "Epoch 68/300\n",
            "10/10 [==============================] - 0s 3ms/step - loss: 4.6348 - mae: 4.6348 - mse: 24.6553 - val_loss: 4.6077 - val_mae: 4.6077 - val_mse: 23.8387\n",
            "Epoch 69/300\n",
            "10/10 [==============================] - 0s 3ms/step - loss: 4.5364 - mae: 4.5364 - mse: 23.6991 - val_loss: 4.5025 - val_mae: 4.5025 - val_mse: 22.8020\n",
            "Epoch 70/300\n",
            "10/10 [==============================] - 0s 3ms/step - loss: 4.4388 - mae: 4.4388 - mse: 22.7833 - val_loss: 4.3970 - val_mae: 4.3970 - val_mse: 21.7946\n",
            "Epoch 71/300\n",
            "10/10 [==============================] - 0s 3ms/step - loss: 4.3405 - mae: 4.3405 - mse: 21.8845 - val_loss: 4.2921 - val_mae: 4.2921 - val_mse: 20.8251\n",
            "Epoch 72/300\n",
            "10/10 [==============================] - 0s 3ms/step - loss: 4.2442 - mae: 4.2442 - mse: 21.0533 - val_loss: 4.1863 - val_mae: 4.1863 - val_mse: 19.8783\n",
            "Epoch 73/300\n",
            "10/10 [==============================] - 0s 4ms/step - loss: 4.1462 - mae: 4.1462 - mse: 20.2079 - val_loss: 4.0817 - val_mae: 4.0817 - val_mse: 18.9743\n",
            "Epoch 74/300\n",
            "10/10 [==============================] - 0s 3ms/step - loss: 4.0490 - mae: 4.0490 - mse: 19.4005 - val_loss: 3.9775 - val_mae: 3.9775 - val_mse: 18.1051\n",
            "Epoch 75/300\n",
            "10/10 [==============================] - 0s 3ms/step - loss: 3.9548 - mae: 3.9548 - mse: 18.6504 - val_loss: 3.8715 - val_mae: 3.8715 - val_mse: 17.2525\n",
            "Epoch 76/300\n",
            "10/10 [==============================] - 0s 3ms/step - loss: 3.8569 - mae: 3.8569 - mse: 17.9074 - val_loss: 3.7683 - val_mae: 3.7683 - val_mse: 16.4538\n",
            "Epoch 77/300\n",
            "10/10 [==============================] - 0s 3ms/step - loss: 3.7628 - mae: 3.7628 - mse: 17.2017 - val_loss: 3.6648 - val_mae: 3.6648 - val_mse: 15.6826\n",
            "Epoch 78/300\n",
            "10/10 [==============================] - 0s 3ms/step - loss: 3.6681 - mae: 3.6681 - mse: 16.5226 - val_loss: 3.5613 - val_mae: 3.5613 - val_mse: 14.9427\n",
            "Epoch 79/300\n",
            "10/10 [==============================] - 0s 4ms/step - loss: 3.5743 - mae: 3.5743 - mse: 15.8498 - val_loss: 3.4593 - val_mae: 3.4593 - val_mse: 14.2436\n",
            "Epoch 80/300\n",
            "10/10 [==============================] - 0s 3ms/step - loss: 3.4841 - mae: 3.4841 - mse: 15.2552 - val_loss: 3.3574 - val_mae: 3.3574 - val_mse: 13.5750\n",
            "Epoch 81/300\n",
            "10/10 [==============================] - 0s 3ms/step - loss: 3.3949 - mae: 3.3949 - mse: 14.6844 - val_loss: 3.2544 - val_mae: 3.2544 - val_mse: 12.9293\n",
            "Epoch 82/300\n",
            "10/10 [==============================] - 0s 3ms/step - loss: 3.3029 - mae: 3.3029 - mse: 14.1096 - val_loss: 3.1533 - val_mae: 3.1533 - val_mse: 12.3247\n",
            "Epoch 83/300\n",
            "10/10 [==============================] - 0s 3ms/step - loss: 3.2132 - mae: 3.2132 - mse: 13.5736 - val_loss: 3.0523 - val_mae: 3.0523 - val_mse: 11.7507\n",
            "Epoch 84/300\n",
            "10/10 [==============================] - 0s 3ms/step - loss: 3.1256 - mae: 3.1256 - mse: 13.0799 - val_loss: 2.9536 - val_mae: 2.9536 - val_mse: 11.2060\n",
            "Epoch 85/300\n",
            "10/10 [==============================] - 0s 3ms/step - loss: 3.0379 - mae: 3.0379 - mse: 12.5992 - val_loss: 2.8573 - val_mae: 2.8573 - val_mse: 10.6969\n",
            "Epoch 86/300\n",
            "10/10 [==============================] - 0s 3ms/step - loss: 2.9537 - mae: 2.9537 - mse: 12.1809 - val_loss: 2.7615 - val_mae: 2.7615 - val_mse: 10.2193\n",
            "Epoch 87/300\n",
            "10/10 [==============================] - 0s 3ms/step - loss: 2.8703 - mae: 2.8703 - mse: 11.7404 - val_loss: 2.6687 - val_mae: 2.6687 - val_mse: 9.7792\n",
            "Epoch 88/300\n",
            "10/10 [==============================] - 0s 4ms/step - loss: 2.7922 - mae: 2.7922 - mse: 11.3803 - val_loss: 2.5808 - val_mae: 2.5808 - val_mse: 9.3650\n",
            "Epoch 89/300\n",
            "10/10 [==============================] - 0s 4ms/step - loss: 2.7121 - mae: 2.7121 - mse: 11.0027 - val_loss: 2.4980 - val_mae: 2.4980 - val_mse: 8.9980\n",
            "Epoch 90/300\n",
            "10/10 [==============================] - 0s 3ms/step - loss: 2.6377 - mae: 2.6377 - mse: 10.6719 - val_loss: 2.4147 - val_mae: 2.4147 - val_mse: 8.6532\n",
            "Epoch 91/300\n",
            "10/10 [==============================] - 0s 3ms/step - loss: 2.5656 - mae: 2.5656 - mse: 10.3887 - val_loss: 2.3311 - val_mae: 2.3311 - val_mse: 8.3317\n",
            "Epoch 92/300\n",
            "10/10 [==============================] - 0s 3ms/step - loss: 2.4947 - mae: 2.4947 - mse: 10.1235 - val_loss: 2.2491 - val_mae: 2.2491 - val_mse: 8.0405\n",
            "Epoch 93/300\n",
            "10/10 [==============================] - 0s 3ms/step - loss: 2.4292 - mae: 2.4292 - mse: 9.8742 - val_loss: 2.1713 - val_mae: 2.1713 - val_mse: 7.7851\n",
            "Epoch 94/300\n",
            "10/10 [==============================] - 0s 4ms/step - loss: 2.3678 - mae: 2.3678 - mse: 9.6522 - val_loss: 2.0984 - val_mae: 2.0984 - val_mse: 7.5607\n",
            "Epoch 95/300\n",
            "10/10 [==============================] - 0s 3ms/step - loss: 2.3110 - mae: 2.3110 - mse: 9.4464 - val_loss: 2.0292 - val_mae: 2.0292 - val_mse: 7.3648\n",
            "Epoch 96/300\n",
            "10/10 [==============================] - 0s 6ms/step - loss: 2.2603 - mae: 2.2603 - mse: 9.2817 - val_loss: 1.9627 - val_mae: 1.9627 - val_mse: 7.1838\n",
            "Epoch 97/300\n",
            "10/10 [==============================] - 0s 4ms/step - loss: 2.2129 - mae: 2.2129 - mse: 9.1280 - val_loss: 1.9033 - val_mae: 1.9033 - val_mse: 7.0364\n",
            "Epoch 98/300\n",
            "10/10 [==============================] - 0s 4ms/step - loss: 2.1721 - mae: 2.1721 - mse: 9.0123 - val_loss: 1.8460 - val_mae: 1.8460 - val_mse: 6.9051\n",
            "Epoch 99/300\n",
            "10/10 [==============================] - 0s 5ms/step - loss: 2.1363 - mae: 2.1363 - mse: 8.9041 - val_loss: 1.7971 - val_mae: 1.7971 - val_mse: 6.8008\n",
            "Epoch 100/300\n",
            "10/10 [==============================] - 0s 4ms/step - loss: 2.1050 - mae: 2.1050 - mse: 8.8146 - val_loss: 1.7540 - val_mae: 1.7540 - val_mse: 6.7127\n",
            "Epoch 101/300\n",
            "10/10 [==============================] - 0s 4ms/step - loss: 2.0761 - mae: 2.0761 - mse: 8.7425 - val_loss: 1.7232 - val_mae: 1.7232 - val_mse: 6.6392\n",
            "Epoch 102/300\n",
            "10/10 [==============================] - 0s 4ms/step - loss: 2.0499 - mae: 2.0499 - mse: 8.6821 - val_loss: 1.6945 - val_mae: 1.6945 - val_mse: 6.5772\n",
            "Epoch 103/300\n",
            "10/10 [==============================] - 0s 3ms/step - loss: 2.0258 - mae: 2.0258 - mse: 8.6338 - val_loss: 1.6724 - val_mae: 1.6724 - val_mse: 6.5269\n",
            "Epoch 104/300\n",
            "10/10 [==============================] - 0s 4ms/step - loss: 2.0034 - mae: 2.0034 - mse: 8.5820 - val_loss: 1.6519 - val_mae: 1.6519 - val_mse: 6.4873\n",
            "Epoch 105/300\n",
            "10/10 [==============================] - 0s 3ms/step - loss: 1.9855 - mae: 1.9855 - mse: 8.5498 - val_loss: 1.6341 - val_mae: 1.6341 - val_mse: 6.4538\n",
            "Epoch 106/300\n",
            "10/10 [==============================] - 0s 3ms/step - loss: 1.9692 - mae: 1.9692 - mse: 8.5270 - val_loss: 1.6192 - val_mae: 1.6192 - val_mse: 6.4299\n",
            "Epoch 107/300\n",
            "10/10 [==============================] - 0s 3ms/step - loss: 1.9557 - mae: 1.9557 - mse: 8.5119 - val_loss: 1.6084 - val_mae: 1.6084 - val_mse: 6.4129\n",
            "Epoch 108/300\n",
            "10/10 [==============================] - 0s 3ms/step - loss: 1.9434 - mae: 1.9434 - mse: 8.4963 - val_loss: 1.5992 - val_mae: 1.5992 - val_mse: 6.4025\n",
            "Epoch 109/300\n",
            "10/10 [==============================] - 0s 3ms/step - loss: 1.9340 - mae: 1.9340 - mse: 8.4867 - val_loss: 1.5953 - val_mae: 1.5953 - val_mse: 6.3961\n",
            "Epoch 110/300\n",
            "10/10 [==============================] - 0s 5ms/step - loss: 1.9271 - mae: 1.9271 - mse: 8.4881 - val_loss: 1.5937 - val_mae: 1.5937 - val_mse: 6.3934\n",
            "Epoch 111/300\n",
            "10/10 [==============================] - 0s 3ms/step - loss: 1.9208 - mae: 1.9208 - mse: 8.4811 - val_loss: 1.5932 - val_mae: 1.5932 - val_mse: 6.3934\n",
            "Epoch 112/300\n",
            "10/10 [==============================] - 0s 3ms/step - loss: 1.9159 - mae: 1.9159 - mse: 8.4789 - val_loss: 1.5930 - val_mae: 1.5930 - val_mse: 6.3951\n",
            "Epoch 113/300\n",
            "10/10 [==============================] - 0s 3ms/step - loss: 1.9111 - mae: 1.9111 - mse: 8.4778 - val_loss: 1.5928 - val_mae: 1.5928 - val_mse: 6.3980\n",
            "Epoch 114/300\n",
            "10/10 [==============================] - 0s 4ms/step - loss: 1.9072 - mae: 1.9072 - mse: 8.4864 - val_loss: 1.5926 - val_mae: 1.5926 - val_mse: 6.4034\n",
            "Epoch 115/300\n",
            "10/10 [==============================] - 0s 3ms/step - loss: 1.9031 - mae: 1.9031 - mse: 8.4890 - val_loss: 1.5929 - val_mae: 1.5929 - val_mse: 6.4099\n",
            "Epoch 116/300\n",
            "10/10 [==============================] - 0s 3ms/step - loss: 1.8996 - mae: 1.8996 - mse: 8.4969 - val_loss: 1.5938 - val_mae: 1.5938 - val_mse: 6.4170\n",
            "Epoch 117/300\n",
            "10/10 [==============================] - 0s 3ms/step - loss: 1.8965 - mae: 1.8965 - mse: 8.5001 - val_loss: 1.5950 - val_mae: 1.5950 - val_mse: 6.4249\n",
            "Epoch 118/300\n",
            "10/10 [==============================] - 0s 5ms/step - loss: 1.8940 - mae: 1.8940 - mse: 8.5085 - val_loss: 1.5965 - val_mae: 1.5965 - val_mse: 6.4359\n",
            "Epoch 119/300\n",
            "10/10 [==============================] - 0s 3ms/step - loss: 1.8898 - mae: 1.8898 - mse: 8.5189 - val_loss: 1.5977 - val_mae: 1.5977 - val_mse: 6.4442\n",
            "Epoch 120/300\n",
            "10/10 [==============================] - 0s 3ms/step - loss: 1.8879 - mae: 1.8879 - mse: 8.5244 - val_loss: 1.6000 - val_mae: 1.6000 - val_mse: 6.4534\n",
            "Epoch 121/300\n",
            "10/10 [==============================] - 0s 3ms/step - loss: 1.8866 - mae: 1.8866 - mse: 8.5351 - val_loss: 1.6021 - val_mae: 1.6021 - val_mse: 6.4627\n",
            "Epoch 122/300\n",
            "10/10 [==============================] - 0s 3ms/step - loss: 1.8850 - mae: 1.8850 - mse: 8.5386 - val_loss: 1.6035 - val_mae: 1.6035 - val_mse: 6.4690\n",
            "Epoch 123/300\n",
            "10/10 [==============================] - 0s 3ms/step - loss: 1.8841 - mae: 1.8841 - mse: 8.5480 - val_loss: 1.6056 - val_mae: 1.6056 - val_mse: 6.4794\n",
            "Epoch 124/300\n",
            "10/10 [==============================] - 0s 3ms/step - loss: 1.8827 - mae: 1.8827 - mse: 8.5555 - val_loss: 1.6075 - val_mae: 1.6075 - val_mse: 6.4889\n",
            "Epoch 125/300\n",
            "10/10 [==============================] - 0s 3ms/step - loss: 1.8814 - mae: 1.8814 - mse: 8.5632 - val_loss: 1.6092 - val_mae: 1.6092 - val_mse: 6.4983\n",
            "Epoch 126/300\n",
            "10/10 [==============================] - 0s 3ms/step - loss: 1.8805 - mae: 1.8805 - mse: 8.5712 - val_loss: 1.6113 - val_mae: 1.6113 - val_mse: 6.5062\n",
            "Epoch 127/300\n",
            "10/10 [==============================] - 0s 3ms/step - loss: 1.8803 - mae: 1.8803 - mse: 8.5777 - val_loss: 1.6130 - val_mae: 1.6130 - val_mse: 6.5123\n",
            "Epoch 128/300\n",
            "10/10 [==============================] - 0s 3ms/step - loss: 1.8800 - mae: 1.8800 - mse: 8.5818 - val_loss: 1.6141 - val_mae: 1.6141 - val_mse: 6.5161\n",
            "Epoch 129/300\n",
            "10/10 [==============================] - 0s 3ms/step - loss: 1.8801 - mae: 1.8801 - mse: 8.5868 - val_loss: 1.6157 - val_mae: 1.6157 - val_mse: 6.5219\n",
            "Epoch 130/300\n",
            "10/10 [==============================] - 0s 3ms/step - loss: 1.8797 - mae: 1.8797 - mse: 8.5886 - val_loss: 1.6160 - val_mae: 1.6160 - val_mse: 6.5230\n",
            "Epoch 131/300\n",
            "10/10 [==============================] - 0s 3ms/step - loss: 1.8799 - mae: 1.8799 - mse: 8.5937 - val_loss: 1.6179 - val_mae: 1.6179 - val_mse: 6.5300\n",
            "Epoch 132/300\n",
            "10/10 [==============================] - 0s 3ms/step - loss: 1.8794 - mae: 1.8794 - mse: 8.5951 - val_loss: 1.6178 - val_mae: 1.6178 - val_mse: 6.5294\n",
            "Epoch 133/300\n",
            "10/10 [==============================] - 0s 3ms/step - loss: 1.8792 - mae: 1.8792 - mse: 8.5960 - val_loss: 1.6185 - val_mae: 1.6185 - val_mse: 6.5320\n",
            "Epoch 134/300\n",
            "10/10 [==============================] - 0s 3ms/step - loss: 1.8791 - mae: 1.8791 - mse: 8.5989 - val_loss: 1.6193 - val_mae: 1.6193 - val_mse: 6.5353\n",
            "Epoch 135/300\n",
            "10/10 [==============================] - 0s 4ms/step - loss: 1.8790 - mae: 1.8790 - mse: 8.6030 - val_loss: 1.6207 - val_mae: 1.6207 - val_mse: 6.5407\n",
            "Epoch 136/300\n",
            "10/10 [==============================] - 0s 3ms/step - loss: 1.8787 - mae: 1.8787 - mse: 8.6062 - val_loss: 1.6215 - val_mae: 1.6215 - val_mse: 6.5439\n",
            "Epoch 137/300\n",
            "10/10 [==============================] - 0s 3ms/step - loss: 1.8786 - mae: 1.8786 - mse: 8.6097 - val_loss: 1.6225 - val_mae: 1.6225 - val_mse: 6.5480\n",
            "Epoch 138/300\n",
            "10/10 [==============================] - 0s 3ms/step - loss: 1.8785 - mae: 1.8785 - mse: 8.6110 - val_loss: 1.6226 - val_mae: 1.6226 - val_mse: 6.5482\n",
            "Epoch 139/300\n",
            "10/10 [==============================] - 0s 3ms/step - loss: 1.8784 - mae: 1.8784 - mse: 8.6158 - val_loss: 1.6245 - val_mae: 1.6245 - val_mse: 6.5561\n",
            "Epoch 140/300\n",
            "10/10 [==============================] - 0s 3ms/step - loss: 1.8781 - mae: 1.8781 - mse: 8.6217 - val_loss: 1.6258 - val_mae: 1.6258 - val_mse: 6.5616\n",
            "Epoch 141/300\n",
            "10/10 [==============================] - 0s 3ms/step - loss: 1.8780 - mae: 1.8780 - mse: 8.6232 - val_loss: 1.6253 - val_mae: 1.6253 - val_mse: 6.5590\n",
            "Epoch 142/300\n",
            "10/10 [==============================] - 0s 3ms/step - loss: 1.8780 - mae: 1.8780 - mse: 8.6209 - val_loss: 1.6255 - val_mae: 1.6255 - val_mse: 6.5598\n",
            "Epoch 143/300\n",
            "10/10 [==============================] - 0s 3ms/step - loss: 1.8779 - mae: 1.8779 - mse: 8.6218 - val_loss: 1.6258 - val_mae: 1.6258 - val_mse: 6.5605\n",
            "Epoch 144/300\n",
            "10/10 [==============================] - 0s 3ms/step - loss: 1.8780 - mae: 1.8780 - mse: 8.6235 - val_loss: 1.6260 - val_mae: 1.6260 - val_mse: 6.5611\n",
            "Epoch 145/300\n",
            "10/10 [==============================] - 0s 3ms/step - loss: 1.8783 - mae: 1.8783 - mse: 8.6198 - val_loss: 1.6242 - val_mae: 1.6242 - val_mse: 6.5532\n",
            "Epoch 146/300\n",
            "10/10 [==============================] - 0s 3ms/step - loss: 1.8780 - mae: 1.8780 - mse: 8.6157 - val_loss: 1.6247 - val_mae: 1.6247 - val_mse: 6.5552\n",
            "Epoch 147/300\n",
            "10/10 [==============================] - 0s 3ms/step - loss: 1.8780 - mae: 1.8780 - mse: 8.6218 - val_loss: 1.6259 - val_mae: 1.6259 - val_mse: 6.5600\n",
            "Epoch 148/300\n",
            "10/10 [==============================] - 0s 3ms/step - loss: 1.8778 - mae: 1.8778 - mse: 8.6202 - val_loss: 1.6252 - val_mae: 1.6252 - val_mse: 6.5567\n",
            "Epoch 149/300\n",
            "10/10 [==============================] - 0s 3ms/step - loss: 1.8779 - mae: 1.8779 - mse: 8.6176 - val_loss: 1.6245 - val_mae: 1.6245 - val_mse: 6.5536\n",
            "Epoch 150/300\n",
            "10/10 [==============================] - 0s 4ms/step - loss: 1.8777 - mae: 1.8777 - mse: 8.6181 - val_loss: 1.6255 - val_mae: 1.6255 - val_mse: 6.5573\n",
            "Epoch 151/300\n",
            "10/10 [==============================] - 0s 3ms/step - loss: 1.8776 - mae: 1.8776 - mse: 8.6198 - val_loss: 1.6254 - val_mae: 1.6254 - val_mse: 6.5568\n",
            "Epoch 152/300\n",
            "10/10 [==============================] - 0s 3ms/step - loss: 1.8776 - mae: 1.8776 - mse: 8.6185 - val_loss: 1.6251 - val_mae: 1.6251 - val_mse: 6.5552\n",
            "Epoch 153/300\n",
            "10/10 [==============================] - 0s 4ms/step - loss: 1.8776 - mae: 1.8776 - mse: 8.6184 - val_loss: 1.6253 - val_mae: 1.6253 - val_mse: 6.5557\n",
            "Epoch 154/300\n",
            "10/10 [==============================] - 0s 3ms/step - loss: 1.8775 - mae: 1.8775 - mse: 8.6181 - val_loss: 1.6254 - val_mae: 1.6254 - val_mse: 6.5560\n",
            "Epoch 155/300\n",
            "10/10 [==============================] - 0s 4ms/step - loss: 1.8775 - mae: 1.8775 - mse: 8.6180 - val_loss: 1.6252 - val_mae: 1.6252 - val_mse: 6.5550\n",
            "Epoch 156/300\n",
            "10/10 [==============================] - 0s 3ms/step - loss: 1.8774 - mae: 1.8774 - mse: 8.6172 - val_loss: 1.6249 - val_mae: 1.6249 - val_mse: 6.5532\n",
            "Epoch 157/300\n",
            "10/10 [==============================] - 0s 4ms/step - loss: 1.8774 - mae: 1.8774 - mse: 8.6162 - val_loss: 1.6253 - val_mae: 1.6253 - val_mse: 6.5548\n",
            "Epoch 158/300\n",
            "10/10 [==============================] - 0s 4ms/step - loss: 1.8775 - mae: 1.8775 - mse: 8.6163 - val_loss: 1.6248 - val_mae: 1.6248 - val_mse: 6.5520\n",
            "Epoch 159/300\n",
            "10/10 [==============================] - 0s 3ms/step - loss: 1.8773 - mae: 1.8773 - mse: 8.6158 - val_loss: 1.6254 - val_mae: 1.6254 - val_mse: 6.5545\n",
            "Epoch 160/300\n",
            "10/10 [==============================] - 0s 3ms/step - loss: 1.8773 - mae: 1.8773 - mse: 8.6178 - val_loss: 1.6254 - val_mae: 1.6254 - val_mse: 6.5541\n",
            "Epoch 161/300\n",
            "10/10 [==============================] - 0s 3ms/step - loss: 1.8773 - mae: 1.8773 - mse: 8.6165 - val_loss: 1.6250 - val_mae: 1.6250 - val_mse: 6.5520\n",
            "Epoch 162/300\n",
            "10/10 [==============================] - 0s 3ms/step - loss: 1.8773 - mae: 1.8773 - mse: 8.6127 - val_loss: 1.6239 - val_mae: 1.6239 - val_mse: 6.5470\n",
            "Epoch 163/300\n",
            "10/10 [==============================] - 0s 3ms/step - loss: 1.8774 - mae: 1.8774 - mse: 8.6144 - val_loss: 1.6251 - val_mae: 1.6251 - val_mse: 6.5520\n",
            "Epoch 164/300\n",
            "10/10 [==============================] - 0s 3ms/step - loss: 1.8771 - mae: 1.8771 - mse: 8.6145 - val_loss: 1.6251 - val_mae: 1.6251 - val_mse: 6.5518\n",
            "Epoch 165/300\n",
            "10/10 [==============================] - 0s 4ms/step - loss: 1.8772 - mae: 1.8772 - mse: 8.6168 - val_loss: 1.6257 - val_mae: 1.6257 - val_mse: 6.5537\n",
            "Epoch 166/300\n",
            "10/10 [==============================] - 0s 3ms/step - loss: 1.8770 - mae: 1.8770 - mse: 8.6148 - val_loss: 1.6247 - val_mae: 1.6247 - val_mse: 6.5493\n",
            "Epoch 167/300\n",
            "10/10 [==============================] - 0s 4ms/step - loss: 1.8770 - mae: 1.8770 - mse: 8.6121 - val_loss: 1.6244 - val_mae: 1.6244 - val_mse: 6.5479\n",
            "Epoch 168/300\n",
            "10/10 [==============================] - 0s 4ms/step - loss: 1.8771 - mae: 1.8771 - mse: 8.6104 - val_loss: 1.6243 - val_mae: 1.6243 - val_mse: 6.5470\n",
            "Epoch 169/300\n",
            "10/10 [==============================] - 0s 4ms/step - loss: 1.8770 - mae: 1.8770 - mse: 8.6103 - val_loss: 1.6247 - val_mae: 1.6247 - val_mse: 6.5485\n",
            "Epoch 170/300\n",
            "10/10 [==============================] - 0s 3ms/step - loss: 1.8769 - mae: 1.8769 - mse: 8.6122 - val_loss: 1.6250 - val_mae: 1.6250 - val_mse: 6.5494\n",
            "Epoch 171/300\n",
            "10/10 [==============================] - 0s 5ms/step - loss: 1.8771 - mae: 1.8771 - mse: 8.6155 - val_loss: 1.6262 - val_mae: 1.6262 - val_mse: 6.5538\n",
            "Epoch 172/300\n",
            "10/10 [==============================] - 0s 3ms/step - loss: 1.8770 - mae: 1.8770 - mse: 8.6157 - val_loss: 1.6253 - val_mae: 1.6253 - val_mse: 6.5500\n",
            "Epoch 173/300\n",
            "10/10 [==============================] - 0s 3ms/step - loss: 1.8769 - mae: 1.8769 - mse: 8.6101 - val_loss: 1.6234 - val_mae: 1.6234 - val_mse: 6.5414\n",
            "Epoch 174/300\n",
            "10/10 [==============================] - 0s 3ms/step - loss: 1.8770 - mae: 1.8770 - mse: 8.6047 - val_loss: 1.6233 - val_mae: 1.6233 - val_mse: 6.5407\n",
            "Epoch 175/300\n",
            "10/10 [==============================] - 0s 4ms/step - loss: 1.8768 - mae: 1.8768 - mse: 8.6059 - val_loss: 1.6240 - val_mae: 1.6240 - val_mse: 6.5432\n",
            "Epoch 176/300\n",
            "10/10 [==============================] - 0s 3ms/step - loss: 1.8768 - mae: 1.8768 - mse: 8.6095 - val_loss: 1.6253 - val_mae: 1.6253 - val_mse: 6.5488\n",
            "Epoch 177/300\n",
            "10/10 [==============================] - 0s 3ms/step - loss: 1.8767 - mae: 1.8767 - mse: 8.6110 - val_loss: 1.6246 - val_mae: 1.6246 - val_mse: 6.5453\n",
            "Epoch 178/300\n",
            "10/10 [==============================] - 0s 4ms/step - loss: 1.8766 - mae: 1.8766 - mse: 8.6104 - val_loss: 1.6248 - val_mae: 1.6248 - val_mse: 6.5458\n",
            "Epoch 179/300\n",
            "10/10 [==============================] - 0s 3ms/step - loss: 1.8766 - mae: 1.8766 - mse: 8.6074 - val_loss: 1.6240 - val_mae: 1.6240 - val_mse: 6.5420\n",
            "Epoch 180/300\n",
            "10/10 [==============================] - 0s 4ms/step - loss: 1.8768 - mae: 1.8768 - mse: 8.6098 - val_loss: 1.6250 - val_mae: 1.6250 - val_mse: 6.5460\n",
            "Epoch 181/300\n",
            "10/10 [==============================] - 0s 3ms/step - loss: 1.8765 - mae: 1.8765 - mse: 8.6070 - val_loss: 1.6237 - val_mae: 1.6237 - val_mse: 6.5400\n",
            "Epoch 182/300\n",
            "10/10 [==============================] - 0s 3ms/step - loss: 1.8765 - mae: 1.8765 - mse: 8.6065 - val_loss: 1.6245 - val_mae: 1.6245 - val_mse: 6.5434\n",
            "Epoch 183/300\n",
            "10/10 [==============================] - 0s 5ms/step - loss: 1.8765 - mae: 1.8765 - mse: 8.6093 - val_loss: 1.6248 - val_mae: 1.6248 - val_mse: 6.5443\n",
            "Epoch 184/300\n",
            "10/10 [==============================] - 0s 4ms/step - loss: 1.8763 - mae: 1.8763 - mse: 8.6061 - val_loss: 1.6239 - val_mae: 1.6239 - val_mse: 6.5401\n",
            "Epoch 185/300\n",
            "10/10 [==============================] - 0s 3ms/step - loss: 1.8763 - mae: 1.8763 - mse: 8.6043 - val_loss: 1.6240 - val_mae: 1.6240 - val_mse: 6.5402\n",
            "Epoch 186/300\n",
            "10/10 [==============================] - 0s 4ms/step - loss: 1.8763 - mae: 1.8763 - mse: 8.6077 - val_loss: 1.6251 - val_mae: 1.6251 - val_mse: 6.5446\n",
            "Epoch 187/300\n",
            "10/10 [==============================] - 0s 4ms/step - loss: 1.8763 - mae: 1.8763 - mse: 8.6083 - val_loss: 1.6247 - val_mae: 1.6247 - val_mse: 6.5423\n",
            "Epoch 188/300\n",
            "10/10 [==============================] - 0s 4ms/step - loss: 1.8764 - mae: 1.8764 - mse: 8.6046 - val_loss: 1.6242 - val_mae: 1.6242 - val_mse: 6.5400\n",
            "Epoch 189/300\n",
            "10/10 [==============================] - 0s 4ms/step - loss: 1.8762 - mae: 1.8762 - mse: 8.6062 - val_loss: 1.6246 - val_mae: 1.6246 - val_mse: 6.5414\n",
            "Epoch 190/300\n",
            "10/10 [==============================] - 0s 4ms/step - loss: 1.8761 - mae: 1.8761 - mse: 8.6038 - val_loss: 1.6239 - val_mae: 1.6239 - val_mse: 6.5381\n",
            "Epoch 191/300\n",
            "10/10 [==============================] - 0s 3ms/step - loss: 1.8760 - mae: 1.8760 - mse: 8.6028 - val_loss: 1.6241 - val_mae: 1.6241 - val_mse: 6.5386\n",
            "Epoch 192/300\n",
            "10/10 [==============================] - 0s 3ms/step - loss: 1.8759 - mae: 1.8759 - mse: 8.6039 - val_loss: 1.6245 - val_mae: 1.6245 - val_mse: 6.5400\n",
            "Epoch 193/300\n",
            "10/10 [==============================] - 0s 3ms/step - loss: 1.8761 - mae: 1.8761 - mse: 8.6028 - val_loss: 1.6237 - val_mae: 1.6237 - val_mse: 6.5362\n",
            "Epoch 194/300\n",
            "10/10 [==============================] - 0s 4ms/step - loss: 1.8758 - mae: 1.8758 - mse: 8.6023 - val_loss: 1.6243 - val_mae: 1.6243 - val_mse: 6.5384\n",
            "Epoch 195/300\n",
            "10/10 [==============================] - 0s 4ms/step - loss: 1.8758 - mae: 1.8758 - mse: 8.6030 - val_loss: 1.6243 - val_mae: 1.6243 - val_mse: 6.5378\n",
            "Epoch 196/300\n",
            "10/10 [==============================] - 0s 4ms/step - loss: 1.8758 - mae: 1.8758 - mse: 8.6035 - val_loss: 1.6243 - val_mae: 1.6243 - val_mse: 6.5376\n",
            "Epoch 197/300\n",
            "10/10 [==============================] - 0s 4ms/step - loss: 1.8758 - mae: 1.8758 - mse: 8.6013 - val_loss: 1.6237 - val_mae: 1.6237 - val_mse: 6.5345\n",
            "Epoch 198/300\n",
            "10/10 [==============================] - 0s 4ms/step - loss: 1.8758 - mae: 1.8758 - mse: 8.5987 - val_loss: 1.6236 - val_mae: 1.6236 - val_mse: 6.5339\n",
            "Epoch 199/300\n",
            "10/10 [==============================] - 0s 3ms/step - loss: 1.8758 - mae: 1.8758 - mse: 8.6039 - val_loss: 1.6250 - val_mae: 1.6250 - val_mse: 6.5395\n",
            "Epoch 200/300\n",
            "10/10 [==============================] - 0s 3ms/step - loss: 1.8762 - mae: 1.8762 - mse: 8.6037 - val_loss: 1.6227 - val_mae: 1.6227 - val_mse: 6.5291\n",
            "Epoch 201/300\n",
            "10/10 [==============================] - 0s 4ms/step - loss: 1.8756 - mae: 1.8756 - mse: 8.5965 - val_loss: 1.6239 - val_mae: 1.6239 - val_mse: 6.5342\n",
            "Epoch 202/300\n",
            "10/10 [==============================] - 0s 4ms/step - loss: 1.8756 - mae: 1.8756 - mse: 8.5999 - val_loss: 1.6243 - val_mae: 1.6243 - val_mse: 6.5352\n",
            "Epoch 203/300\n",
            "10/10 [==============================] - 0s 5ms/step - loss: 1.8755 - mae: 1.8755 - mse: 8.5973 - val_loss: 1.6231 - val_mae: 1.6231 - val_mse: 6.5299\n",
            "Epoch 204/300\n",
            "10/10 [==============================] - 0s 3ms/step - loss: 1.8758 - mae: 1.8758 - mse: 8.6004 - val_loss: 1.6249 - val_mae: 1.6249 - val_mse: 6.5372\n",
            "Epoch 205/300\n",
            "10/10 [==============================] - 0s 3ms/step - loss: 1.8754 - mae: 1.8754 - mse: 8.5997 - val_loss: 1.6232 - val_mae: 1.6232 - val_mse: 6.5297\n",
            "Epoch 206/300\n",
            "10/10 [==============================] - 0s 4ms/step - loss: 1.8755 - mae: 1.8755 - mse: 8.5962 - val_loss: 1.6237 - val_mae: 1.6237 - val_mse: 6.5313\n",
            "Epoch 207/300\n",
            "10/10 [==============================] - 0s 4ms/step - loss: 1.8752 - mae: 1.8752 - mse: 8.5969 - val_loss: 1.6238 - val_mae: 1.6238 - val_mse: 6.5316\n",
            "Epoch 208/300\n",
            "10/10 [==============================] - 0s 4ms/step - loss: 1.8753 - mae: 1.8753 - mse: 8.5983 - val_loss: 1.6239 - val_mae: 1.6239 - val_mse: 6.5316\n",
            "Epoch 209/300\n",
            "10/10 [==============================] - 0s 3ms/step - loss: 1.8751 - mae: 1.8751 - mse: 8.5969 - val_loss: 1.6234 - val_mae: 1.6234 - val_mse: 6.5290\n",
            "Epoch 210/300\n",
            "10/10 [==============================] - 0s 4ms/step - loss: 1.8751 - mae: 1.8751 - mse: 8.5943 - val_loss: 1.6231 - val_mae: 1.6231 - val_mse: 6.5274\n",
            "Epoch 211/300\n",
            "10/10 [==============================] - 0s 4ms/step - loss: 1.8753 - mae: 1.8753 - mse: 8.5921 - val_loss: 1.6229 - val_mae: 1.6229 - val_mse: 6.5260\n",
            "Epoch 212/300\n",
            "10/10 [==============================] - 0s 3ms/step - loss: 1.8751 - mae: 1.8751 - mse: 8.5955 - val_loss: 1.6245 - val_mae: 1.6245 - val_mse: 6.5325\n",
            "Epoch 213/300\n",
            "10/10 [==============================] - 0s 3ms/step - loss: 1.8751 - mae: 1.8751 - mse: 8.5982 - val_loss: 1.6242 - val_mae: 1.6242 - val_mse: 6.5306\n",
            "Epoch 214/300\n",
            "10/10 [==============================] - 0s 3ms/step - loss: 1.8753 - mae: 1.8753 - mse: 8.5921 - val_loss: 1.6221 - val_mae: 1.6221 - val_mse: 6.5214\n",
            "Epoch 215/300\n",
            "10/10 [==============================] - 0s 4ms/step - loss: 1.8750 - mae: 1.8750 - mse: 8.5921 - val_loss: 1.6236 - val_mae: 1.6236 - val_mse: 6.5278\n",
            "Epoch 216/300\n",
            "10/10 [==============================] - 0s 3ms/step - loss: 1.8748 - mae: 1.8748 - mse: 8.5931 - val_loss: 1.6234 - val_mae: 1.6234 - val_mse: 6.5266\n",
            "Epoch 217/300\n",
            "10/10 [==============================] - 0s 3ms/step - loss: 1.8748 - mae: 1.8748 - mse: 8.5928 - val_loss: 1.6242 - val_mae: 1.6242 - val_mse: 6.5291\n",
            "Epoch 218/300\n",
            "10/10 [==============================] - 0s 3ms/step - loss: 1.8748 - mae: 1.8748 - mse: 8.5958 - val_loss: 1.6242 - val_mae: 1.6242 - val_mse: 6.5287\n",
            "Epoch 219/300\n",
            "10/10 [==============================] - 0s 3ms/step - loss: 1.8749 - mae: 1.8749 - mse: 8.5930 - val_loss: 1.6224 - val_mae: 1.6224 - val_mse: 6.5208\n",
            "Epoch 220/300\n",
            "10/10 [==============================] - 0s 4ms/step - loss: 1.8749 - mae: 1.8749 - mse: 8.5859 - val_loss: 1.6220 - val_mae: 1.6220 - val_mse: 6.5185\n",
            "Epoch 221/300\n",
            "10/10 [==============================] - 0s 3ms/step - loss: 1.8748 - mae: 1.8748 - mse: 8.5910 - val_loss: 1.6242 - val_mae: 1.6242 - val_mse: 6.5278\n",
            "Epoch 222/300\n",
            "10/10 [==============================] - 0s 3ms/step - loss: 1.8746 - mae: 1.8746 - mse: 8.5935 - val_loss: 1.6232 - val_mae: 1.6232 - val_mse: 6.5232\n",
            "Epoch 223/300\n",
            "10/10 [==============================] - 0s 3ms/step - loss: 1.8746 - mae: 1.8746 - mse: 8.5882 - val_loss: 1.6218 - val_mae: 1.6218 - val_mse: 6.5168\n",
            "Epoch 224/300\n",
            "10/10 [==============================] - 0s 4ms/step - loss: 1.8745 - mae: 1.8745 - mse: 8.5884 - val_loss: 1.6231 - val_mae: 1.6231 - val_mse: 6.5219\n",
            "Epoch 225/300\n",
            "10/10 [==============================] - 0s 4ms/step - loss: 1.8744 - mae: 1.8744 - mse: 8.5901 - val_loss: 1.6234 - val_mae: 1.6234 - val_mse: 6.5230\n",
            "Epoch 226/300\n",
            "10/10 [==============================] - 0s 3ms/step - loss: 1.8744 - mae: 1.8744 - mse: 8.5902 - val_loss: 1.6227 - val_mae: 1.6227 - val_mse: 6.5195\n",
            "Epoch 227/300\n",
            "10/10 [==============================] - 0s 4ms/step - loss: 1.8744 - mae: 1.8744 - mse: 8.5850 - val_loss: 1.6220 - val_mae: 1.6220 - val_mse: 6.5159\n",
            "Epoch 228/300\n",
            "10/10 [==============================] - 0s 4ms/step - loss: 1.8742 - mae: 1.8742 - mse: 8.5847 - val_loss: 1.6230 - val_mae: 1.6230 - val_mse: 6.5200\n",
            "Epoch 229/300\n",
            "10/10 [==============================] - 0s 3ms/step - loss: 1.8742 - mae: 1.8742 - mse: 8.5892 - val_loss: 1.6237 - val_mae: 1.6237 - val_mse: 6.5225\n",
            "Epoch 230/300\n",
            "10/10 [==============================] - 0s 3ms/step - loss: 1.8740 - mae: 1.8740 - mse: 8.5876 - val_loss: 1.6225 - val_mae: 1.6225 - val_mse: 6.5171\n",
            "Epoch 231/300\n",
            "10/10 [==============================] - 0s 3ms/step - loss: 1.8742 - mae: 1.8742 - mse: 8.5834 - val_loss: 1.6219 - val_mae: 1.6219 - val_mse: 6.5140\n",
            "Epoch 232/300\n",
            "10/10 [==============================] - 0s 3ms/step - loss: 1.8743 - mae: 1.8743 - mse: 8.5867 - val_loss: 1.6238 - val_mae: 1.6238 - val_mse: 6.5218\n",
            "Epoch 233/300\n",
            "10/10 [==============================] - 0s 3ms/step - loss: 1.8740 - mae: 1.8740 - mse: 8.5865 - val_loss: 1.6223 - val_mae: 1.6223 - val_mse: 6.5149\n",
            "Epoch 234/300\n",
            "10/10 [==============================] - 0s 3ms/step - loss: 1.8739 - mae: 1.8739 - mse: 8.5839 - val_loss: 1.6223 - val_mae: 1.6223 - val_mse: 6.5146\n",
            "Epoch 235/300\n",
            "10/10 [==============================] - 0s 3ms/step - loss: 1.8738 - mae: 1.8738 - mse: 8.5830 - val_loss: 1.6229 - val_mae: 1.6229 - val_mse: 6.5166\n",
            "Epoch 236/300\n",
            "10/10 [==============================] - 0s 3ms/step - loss: 1.8738 - mae: 1.8738 - mse: 8.5860 - val_loss: 1.6231 - val_mae: 1.6231 - val_mse: 6.5171\n",
            "Epoch 237/300\n",
            "10/10 [==============================] - 0s 3ms/step - loss: 1.8738 - mae: 1.8738 - mse: 8.5839 - val_loss: 1.6217 - val_mae: 1.6217 - val_mse: 6.5104\n",
            "Epoch 238/300\n",
            "10/10 [==============================] - 0s 4ms/step - loss: 1.8738 - mae: 1.8738 - mse: 8.5795 - val_loss: 1.6216 - val_mae: 1.6216 - val_mse: 6.5098\n",
            "Epoch 239/300\n",
            "10/10 [==============================] - 0s 3ms/step - loss: 1.8738 - mae: 1.8738 - mse: 8.5775 - val_loss: 1.6217 - val_mae: 1.6217 - val_mse: 6.5096\n",
            "Epoch 240/300\n",
            "10/10 [==============================] - 0s 3ms/step - loss: 1.8736 - mae: 1.8736 - mse: 8.5831 - val_loss: 1.6233 - val_mae: 1.6233 - val_mse: 6.5162\n",
            "Epoch 241/300\n",
            "10/10 [==============================] - 0s 3ms/step - loss: 1.8741 - mae: 1.8741 - mse: 8.5808 - val_loss: 1.6215 - val_mae: 1.6215 - val_mse: 6.5082\n",
            "Epoch 242/300\n",
            "10/10 [==============================] - 0s 3ms/step - loss: 1.8734 - mae: 1.8734 - mse: 8.5785 - val_loss: 1.6225 - val_mae: 1.6225 - val_mse: 6.5122\n",
            "Epoch 243/300\n",
            "10/10 [==============================] - 0s 3ms/step - loss: 1.8737 - mae: 1.8737 - mse: 8.5852 - val_loss: 1.6235 - val_mae: 1.6235 - val_mse: 6.5158\n",
            "Epoch 244/300\n",
            "10/10 [==============================] - 0s 3ms/step - loss: 1.8735 - mae: 1.8735 - mse: 8.5818 - val_loss: 1.6217 - val_mae: 1.6217 - val_mse: 6.5078\n",
            "Epoch 245/300\n",
            "10/10 [==============================] - 0s 4ms/step - loss: 1.8733 - mae: 1.8733 - mse: 8.5793 - val_loss: 1.6222 - val_mae: 1.6222 - val_mse: 6.5096\n",
            "Epoch 246/300\n",
            "10/10 [==============================] - 0s 4ms/step - loss: 1.8731 - mae: 1.8731 - mse: 8.5791 - val_loss: 1.6226 - val_mae: 1.6226 - val_mse: 6.5109\n",
            "Epoch 247/300\n",
            "10/10 [==============================] - 0s 4ms/step - loss: 1.8731 - mae: 1.8731 - mse: 8.5790 - val_loss: 1.6216 - val_mae: 1.6216 - val_mse: 6.5060\n",
            "Epoch 248/300\n",
            "10/10 [==============================] - 0s 3ms/step - loss: 1.8735 - mae: 1.8735 - mse: 8.5717 - val_loss: 1.6203 - val_mae: 1.6203 - val_mse: 6.4998\n",
            "Epoch 249/300\n",
            "10/10 [==============================] - 0s 3ms/step - loss: 1.8731 - mae: 1.8731 - mse: 8.5746 - val_loss: 1.6224 - val_mae: 1.6224 - val_mse: 6.5087\n",
            "Epoch 250/300\n",
            "10/10 [==============================] - 0s 3ms/step - loss: 1.8730 - mae: 1.8730 - mse: 8.5778 - val_loss: 1.6222 - val_mae: 1.6222 - val_mse: 6.5076\n",
            "Epoch 251/300\n",
            "10/10 [==============================] - 0s 4ms/step - loss: 1.8730 - mae: 1.8730 - mse: 8.5783 - val_loss: 1.6223 - val_mae: 1.6223 - val_mse: 6.5073\n",
            "Epoch 252/300\n",
            "10/10 [==============================] - 0s 3ms/step - loss: 1.8730 - mae: 1.8730 - mse: 8.5736 - val_loss: 1.6206 - val_mae: 1.6206 - val_mse: 6.4994\n",
            "Epoch 253/300\n",
            "10/10 [==============================] - 0s 3ms/step - loss: 1.8730 - mae: 1.8730 - mse: 8.5720 - val_loss: 1.6219 - val_mae: 1.6219 - val_mse: 6.5049\n",
            "Epoch 254/300\n",
            "10/10 [==============================] - 0s 4ms/step - loss: 1.8727 - mae: 1.8727 - mse: 8.5749 - val_loss: 1.6219 - val_mae: 1.6219 - val_mse: 6.5045\n",
            "Epoch 255/300\n",
            "10/10 [==============================] - 0s 4ms/step - loss: 1.8727 - mae: 1.8727 - mse: 8.5733 - val_loss: 1.6217 - val_mae: 1.6217 - val_mse: 6.5029\n",
            "Epoch 256/300\n",
            "10/10 [==============================] - 0s 4ms/step - loss: 1.8727 - mae: 1.8727 - mse: 8.5760 - val_loss: 1.6220 - val_mae: 1.6220 - val_mse: 6.5040\n",
            "Epoch 257/300\n",
            "10/10 [==============================] - 0s 3ms/step - loss: 1.8733 - mae: 1.8733 - mse: 8.5711 - val_loss: 1.6204 - val_mae: 1.6204 - val_mse: 6.4963\n",
            "Epoch 258/300\n",
            "10/10 [==============================] - 0s 4ms/step - loss: 1.8726 - mae: 1.8726 - mse: 8.5729 - val_loss: 1.6227 - val_mae: 1.6227 - val_mse: 6.5058\n",
            "Epoch 259/300\n",
            "10/10 [==============================] - 0s 3ms/step - loss: 1.8726 - mae: 1.8726 - mse: 8.5763 - val_loss: 1.6224 - val_mae: 1.6224 - val_mse: 6.5042\n",
            "Epoch 260/300\n",
            "10/10 [==============================] - 0s 4ms/step - loss: 1.8722 - mae: 1.8722 - mse: 8.5711 - val_loss: 1.6210 - val_mae: 1.6210 - val_mse: 6.4979\n",
            "Epoch 261/300\n",
            "10/10 [==============================] - 0s 4ms/step - loss: 1.8730 - mae: 1.8730 - mse: 8.5638 - val_loss: 1.6192 - val_mae: 1.6192 - val_mse: 6.4892\n",
            "Epoch 262/300\n",
            "10/10 [==============================] - 0s 4ms/step - loss: 1.8724 - mae: 1.8724 - mse: 8.5634 - val_loss: 1.6206 - val_mae: 1.6206 - val_mse: 6.4949\n",
            "Epoch 263/300\n",
            "10/10 [==============================] - 0s 3ms/step - loss: 1.8723 - mae: 1.8723 - mse: 8.5702 - val_loss: 1.6226 - val_mae: 1.6226 - val_mse: 6.5030\n",
            "Epoch 264/300\n",
            "10/10 [==============================] - 0s 3ms/step - loss: 1.8722 - mae: 1.8722 - mse: 8.5734 - val_loss: 1.6223 - val_mae: 1.6223 - val_mse: 6.5014\n",
            "Epoch 265/300\n",
            "10/10 [==============================] - 0s 4ms/step - loss: 1.8721 - mae: 1.8721 - mse: 8.5673 - val_loss: 1.6196 - val_mae: 1.6196 - val_mse: 6.4891\n",
            "Epoch 266/300\n",
            "10/10 [==============================] - 0s 3ms/step - loss: 1.8723 - mae: 1.8723 - mse: 8.5594 - val_loss: 1.6193 - val_mae: 1.6193 - val_mse: 6.4875\n",
            "Epoch 267/300\n",
            "10/10 [==============================] - 0s 4ms/step - loss: 1.8723 - mae: 1.8723 - mse: 8.5659 - val_loss: 1.6213 - val_mae: 1.6213 - val_mse: 6.4956\n",
            "Epoch 268/300\n",
            "10/10 [==============================] - 0s 3ms/step - loss: 1.8718 - mae: 1.8718 - mse: 8.5662 - val_loss: 1.6214 - val_mae: 1.6214 - val_mse: 6.4959\n",
            "Epoch 269/300\n",
            "10/10 [==============================] - 0s 3ms/step - loss: 1.8718 - mae: 1.8718 - mse: 8.5667 - val_loss: 1.6210 - val_mae: 1.6210 - val_mse: 6.4938\n",
            "Epoch 270/300\n",
            "10/10 [==============================] - 0s 4ms/step - loss: 1.8720 - mae: 1.8720 - mse: 8.5691 - val_loss: 1.6216 - val_mae: 1.6216 - val_mse: 6.4959\n",
            "Epoch 271/300\n",
            "10/10 [==============================] - 0s 4ms/step - loss: 1.8718 - mae: 1.8718 - mse: 8.5638 - val_loss: 1.6209 - val_mae: 1.6209 - val_mse: 6.4919\n",
            "Epoch 272/300\n",
            "10/10 [==============================] - 0s 3ms/step - loss: 1.8718 - mae: 1.8718 - mse: 8.5621 - val_loss: 1.6213 - val_mae: 1.6213 - val_mse: 6.4934\n",
            "Epoch 273/300\n",
            "10/10 [==============================] - 0s 3ms/step - loss: 1.8717 - mae: 1.8717 - mse: 8.5676 - val_loss: 1.6219 - val_mae: 1.6219 - val_mse: 6.4953\n",
            "Epoch 274/300\n",
            "10/10 [==============================] - 0s 3ms/step - loss: 1.8716 - mae: 1.8716 - mse: 8.5618 - val_loss: 1.6199 - val_mae: 1.6199 - val_mse: 6.4862\n",
            "Epoch 275/300\n",
            "10/10 [==============================] - 0s 4ms/step - loss: 1.8718 - mae: 1.8718 - mse: 8.5574 - val_loss: 1.6196 - val_mae: 1.6196 - val_mse: 6.4844\n",
            "Epoch 276/300\n",
            "10/10 [==============================] - 0s 4ms/step - loss: 1.8713 - mae: 1.8713 - mse: 8.5604 - val_loss: 1.6221 - val_mae: 1.6221 - val_mse: 6.4948\n",
            "Epoch 277/300\n",
            "10/10 [==============================] - 0s 3ms/step - loss: 1.8720 - mae: 1.8720 - mse: 8.5706 - val_loss: 1.6236 - val_mae: 1.6236 - val_mse: 6.5002\n",
            "Epoch 278/300\n",
            "10/10 [==============================] - 0s 3ms/step - loss: 1.8714 - mae: 1.8714 - mse: 8.5645 - val_loss: 1.6201 - val_mae: 1.6201 - val_mse: 6.4854\n",
            "Epoch 279/300\n",
            "10/10 [==============================] - 0s 3ms/step - loss: 1.8713 - mae: 1.8713 - mse: 8.5562 - val_loss: 1.6197 - val_mae: 1.6197 - val_mse: 6.4831\n",
            "Epoch 280/300\n",
            "10/10 [==============================] - 0s 3ms/step - loss: 1.8714 - mae: 1.8714 - mse: 8.5613 - val_loss: 1.6206 - val_mae: 1.6206 - val_mse: 6.4866\n",
            "Epoch 281/300\n",
            "10/10 [==============================] - 0s 3ms/step - loss: 1.8715 - mae: 1.8715 - mse: 8.5636 - val_loss: 1.6215 - val_mae: 1.6215 - val_mse: 6.4899\n",
            "Epoch 282/300\n",
            "10/10 [==============================] - 0s 4ms/step - loss: 1.8720 - mae: 1.8720 - mse: 8.5550 - val_loss: 1.6175 - val_mae: 1.6175 - val_mse: 6.4719\n",
            "Epoch 283/300\n",
            "10/10 [==============================] - 0s 3ms/step - loss: 1.8711 - mae: 1.8711 - mse: 8.5480 - val_loss: 1.6190 - val_mae: 1.6190 - val_mse: 6.4779\n",
            "Epoch 284/300\n",
            "10/10 [==============================] - 0s 3ms/step - loss: 1.8709 - mae: 1.8709 - mse: 8.5523 - val_loss: 1.6204 - val_mae: 1.6204 - val_mse: 6.4837\n",
            "Epoch 285/300\n",
            "10/10 [==============================] - 0s 3ms/step - loss: 1.8708 - mae: 1.8708 - mse: 8.5607 - val_loss: 1.6218 - val_mae: 1.6218 - val_mse: 6.4892\n",
            "Epoch 286/300\n",
            "10/10 [==============================] - 0s 3ms/step - loss: 1.8708 - mae: 1.8708 - mse: 8.5608 - val_loss: 1.6217 - val_mae: 1.6217 - val_mse: 6.4882\n",
            "Epoch 287/300\n",
            "10/10 [==============================] - 0s 4ms/step - loss: 1.8706 - mae: 1.8706 - mse: 8.5574 - val_loss: 1.6201 - val_mae: 1.6201 - val_mse: 6.4809\n",
            "Epoch 288/300\n",
            "10/10 [==============================] - 0s 3ms/step - loss: 1.8706 - mae: 1.8706 - mse: 8.5566 - val_loss: 1.6210 - val_mae: 1.6210 - val_mse: 6.4843\n",
            "Epoch 289/300\n",
            "10/10 [==============================] - 0s 4ms/step - loss: 1.8706 - mae: 1.8706 - mse: 8.5557 - val_loss: 1.6200 - val_mae: 1.6200 - val_mse: 6.4796\n",
            "Epoch 290/300\n",
            "10/10 [==============================] - 0s 4ms/step - loss: 1.8705 - mae: 1.8705 - mse: 8.5552 - val_loss: 1.6213 - val_mae: 1.6213 - val_mse: 6.4845\n",
            "Epoch 291/300\n",
            "10/10 [==============================] - 0s 3ms/step - loss: 1.8704 - mae: 1.8704 - mse: 8.5543 - val_loss: 1.6201 - val_mae: 1.6201 - val_mse: 6.4791\n",
            "Epoch 292/300\n",
            "10/10 [==============================] - 0s 4ms/step - loss: 1.8703 - mae: 1.8703 - mse: 8.5517 - val_loss: 1.6202 - val_mae: 1.6202 - val_mse: 6.4790\n",
            "Epoch 293/300\n",
            "10/10 [==============================] - 0s 4ms/step - loss: 1.8703 - mae: 1.8703 - mse: 8.5548 - val_loss: 1.6200 - val_mae: 1.6200 - val_mse: 6.4779\n",
            "Epoch 294/300\n",
            "10/10 [==============================] - 0s 4ms/step - loss: 1.8708 - mae: 1.8708 - mse: 8.5460 - val_loss: 1.6183 - val_mae: 1.6183 - val_mse: 6.4697\n",
            "Epoch 295/300\n",
            "10/10 [==============================] - 0s 4ms/step - loss: 1.8702 - mae: 1.8702 - mse: 8.5506 - val_loss: 1.6209 - val_mae: 1.6209 - val_mse: 6.4803\n",
            "Epoch 296/300\n",
            "10/10 [==============================] - 0s 4ms/step - loss: 1.8702 - mae: 1.8702 - mse: 8.5549 - val_loss: 1.6205 - val_mae: 1.6205 - val_mse: 6.4783\n",
            "Epoch 297/300\n",
            "10/10 [==============================] - 0s 4ms/step - loss: 1.8700 - mae: 1.8700 - mse: 8.5486 - val_loss: 1.6190 - val_mae: 1.6190 - val_mse: 6.4714\n",
            "Epoch 298/300\n",
            "10/10 [==============================] - 0s 4ms/step - loss: 1.8699 - mae: 1.8699 - mse: 8.5468 - val_loss: 1.6197 - val_mae: 1.6197 - val_mse: 6.4739\n",
            "Epoch 299/300\n",
            "10/10 [==============================] - 0s 4ms/step - loss: 1.8703 - mae: 1.8703 - mse: 8.5468 - val_loss: 1.6192 - val_mae: 1.6192 - val_mse: 6.4709\n",
            "Epoch 300/300\n",
            "10/10 [==============================] - 0s 4ms/step - loss: 1.8698 - mae: 1.8698 - mse: 8.5502 - val_loss: 1.6208 - val_mae: 1.6208 - val_mse: 6.4773\n"
          ],
          "name": "stdout"
        }
      ]
    },
    {
      "cell_type": "code",
      "metadata": {
        "id": "6zYkLGS6wQyy",
        "colab": {
          "base_uri": "https://localhost:8080/"
        },
        "outputId": "974cafae-ee28-4767-fc28-3ac067d34075"
      },
      "source": [
        "print(history)"
      ],
      "execution_count": 22,
      "outputs": [
        {
          "output_type": "stream",
          "text": [
            "<tensorflow.python.keras.callbacks.History object at 0x7f7d070b9250>\n"
          ],
          "name": "stdout"
        }
      ]
    },
    {
      "cell_type": "code",
      "metadata": {
        "colab": {
          "base_uri": "https://localhost:8080/"
        },
        "id": "1lsbk_ohAu1j",
        "outputId": "95c7a516-8879-4e37-f597-1ae55a477afe"
      },
      "source": [
        "model.summary()"
      ],
      "execution_count": 23,
      "outputs": [
        {
          "output_type": "stream",
          "text": [
            "Model: \"sequential\"\n",
            "_________________________________________________________________\n",
            "Layer (type)                 Output Shape              Param #   \n",
            "=================================================================\n",
            "dense (Dense)                (None, 1)                 2         \n",
            "=================================================================\n",
            "Total params: 2\n",
            "Trainable params: 2\n",
            "Non-trainable params: 0\n",
            "_________________________________________________________________\n"
          ],
          "name": "stdout"
        }
      ]
    },
    {
      "cell_type": "code",
      "metadata": {
        "colab": {
          "base_uri": "https://localhost:8080/",
          "height": 1000
        },
        "id": "P6VnkPim7tH7",
        "outputId": "0f211ce1-a1a6-4c6f-ba31-45b8b614b3a8"
      },
      "source": [
        "# tempString = 'mse'\n",
        "def curvePlots(tempString):\n",
        "  plt.plot(history.history[tempString])\n",
        "  plt.plot(history.history[f'val_{tempString}'])\n",
        "  plt.xlabel('NumEpochs')\n",
        "  plt.ylabel(tempString)\n",
        "  plt.legend([tempString, f'val_{tempString}'])\n",
        "  plt.show()\n",
        "\n",
        "\n",
        "curvePlots('mse')\n",
        "curvePlots('mae')\n",
        "curvePlots('loss')"
      ],
      "execution_count": 24,
      "outputs": [
        {
          "output_type": "display_data",
          "data": {
            "image/png": "[encoded data removed]",
            "text/plain": [
              "<Figure size 576x396 with 1 Axes>"
            ]
          },
          "metadata": {
            "tags": []
          }
        },
        {
          "output_type": "display_data",
          "data": {
            "image/png": "[encoded data removed]",
            "text/plain": [
              "<Figure size 576x396 with 1 Axes>"
            ]
          },
          "metadata": {
            "tags": []
          }
        },
        {
          "output_type": "display_data",
          "data": {
            "image/png": "[encoded data removed]",
            "text/plain": [
              "<Figure size 576x396 with 1 Axes>"
            ]
          },
          "metadata": {
            "tags": []
          }
        }
      ]
    },
    {
      "cell_type": "code",
      "metadata": {
        "id": "esW0eHQbzoj4",
        "colab": {
          "base_uri": "https://localhost:8080/"
        },
        "outputId": "556a6ab4-5e02-47eb-b8db-1907804b5308"
      },
      "source": [
        "model.predict([1])"
      ],
      "execution_count": 25,
      "outputs": [
        {
          "output_type": "execute_result",
          "data": {
            "text/plain": [
              "array([[1.7248585]], dtype=float32)"
            ]
          },
          "metadata": {
            "tags": []
          },
          "execution_count": 25
        }
      ]
    },
    {
      "cell_type": "code",
      "metadata": {
        "colab": {
          "base_uri": "https://localhost:8080/"
        },
        "id": "KJrLWamX8Tg-",
        "outputId": "b4d1b8d4-ae8a-4bf7-c6a1-3993d0c1017f"
      },
      "source": [
        "# testPreds = model.predict(testFeatures).flatten() #array of all prediction values\n",
        "\n",
        "#for single values\n",
        "\n",
        "print(f'Prediction for input value 1: {model.predict([1])}')\n",
        "\n",
        "\n",
        "# for a list of values\n",
        "tempListforPreds = [1,2,3,4,5]\n",
        "print(f'''\n",
        "\n",
        "input List = {tempListforPreds}\n",
        "\n",
        "\n",
        "List of Predictions:\n",
        "{model.predict(tempListforPreds)}\n",
        "\n",
        "List of Predictions (flattened out):\n",
        "{model.predict(tempListforPreds).flatten()}\n",
        "''')"
      ],
      "execution_count": 26,
      "outputs": [
        {
          "output_type": "stream",
          "text": [
            "Prediction for input value 1: [[1.7248585]]\n",
            "\n",
            "\n",
            "input List = [1, 2, 3, 4, 5]\n",
            "\n",
            "\n",
            "List of Predictions:\n",
            "[[1.7248585]\n",
            " [2.6593149]\n",
            " [3.5937712]\n",
            " [4.528228 ]\n",
            " [5.4626837]]\n",
            "\n",
            "List of Predictions (flattened out):\n",
            "[1.7248585 2.6593149 3.5937712 4.528228  5.4626837]\n",
            "\n"
          ],
          "name": "stdout"
        }
      ]
    },
    {
      "cell_type": "code",
      "metadata": {
        "id": "vJNFh6hc0K6r",
        "colab": {
          "base_uri": "https://localhost:8080/"
        },
        "outputId": "ea85bf12-9e5c-4838-83b5-c1404d48784d"
      },
      "source": [
        "print(testFeatures)"
      ],
      "execution_count": 27,
      "outputs": [
        {
          "output_type": "stream",
          "text": [
            "     G1\n",
            "9    14\n",
            "25    6\n",
            "28   11\n",
            "31   17\n",
            "32   17\n",
            "..   ..\n",
            "365  10\n",
            "367   7\n",
            "379  10\n",
            "381   7\n",
            "393  11\n",
            "\n",
            "[79 rows x 1 columns]\n"
          ],
          "name": "stdout"
        }
      ]
    },
    {
      "cell_type": "code",
      "metadata": {
        "id": "MniGZOu50IyN"
      },
      "source": [
        "testPreds = model.predict(testFeatures).flatten() #array of all prediction values"
      ],
      "execution_count": 28,
      "outputs": []
    },
    {
      "cell_type": "code",
      "metadata": {
        "id": "du0Orwu40Qan",
        "colab": {
          "base_uri": "https://localhost:8080/"
        },
        "outputId": "c6a3d818-fd2a-43f6-9473-eba7ee904275"
      },
      "source": [
        "print(len(testPreds))\n",
        "print(testPreds)"
      ],
      "execution_count": 29,
      "outputs": [
        {
          "output_type": "stream",
          "text": [
            "79\n",
            "[13.872791   6.3971405 11.069423  16.676159  16.676159  12.003879\n",
            " 13.872791  18.545073  18.545073   8.266053  13.872791  12.938334\n",
            "  8.266053   7.3315964  9.200509  12.938334  11.069423  15.741704\n",
            "  7.3315964 10.134966  14.807248  12.938334  13.872791  15.741704\n",
            "  7.3315964  7.3315964  8.266053  10.134966  12.003879  10.134966\n",
            " 12.003879  12.938334  10.134966   6.3971405  9.200509  12.003879\n",
            "  7.3315964  8.266053  13.872791   9.200509   9.200509   7.3315964\n",
            " 12.003879   6.3971405 12.938334   7.3315964  7.3315964 11.069423\n",
            " 12.938334  16.676159  12.003879  14.807248   9.200509  12.003879\n",
            " 14.807248  12.003879  14.807248  12.003879  14.807248  11.069423\n",
            " 12.003879   8.266053  15.741704   7.3315964 15.741704  11.069423\n",
            " 15.741704  12.938334   8.266053   8.266053  12.003879  17.610615\n",
            " 12.938334  15.741704  10.134966   7.3315964 10.134966   7.3315964\n",
            " 11.069423 ]\n"
          ],
          "name": "stdout"
        }
      ]
    },
    {
      "cell_type": "code",
      "metadata": {
        "colab": {
          "base_uri": "https://localhost:8080/",
          "height": 361
        },
        "id": "EfP8bB_v89Wa",
        "outputId": "0e10bb0f-82e1-48e7-9cba-f07e74b0b85b"
      },
      "source": [
        "# prediciton plot --> how well is your model predicting across the actual labels\n",
        "\n",
        "def predPlot(labels, predictions):\n",
        "  plt.scatter(labels, predictions)\n",
        "  plt.ylabel('Predictions')\n",
        "  plt.xlabel('True Value or Labels')\n",
        "  plt.axis('equal')\n",
        "  plt.axis('square')\n",
        "  plt.xlim([0, plt.xlim()[1]])\n",
        "  plt.ylim([0, plt.ylim()[1]])\n",
        "  plt.show()\n",
        "\n",
        "predPlot(testLabels, testPreds)"
      ],
      "execution_count": 30,
      "outputs": [
        {
          "output_type": "display_data",
          "data": {
            "image/png": "[encoded data removed]",
            "text/plain": [
              "<Figure size 576x396 with 1 Axes>"
            ]
          },
          "metadata": {
            "tags": []
          }
        }
      ]
    },
    {
      "cell_type": "code",
      "metadata": {
        "colab": {
          "base_uri": "https://localhost:8080/",
          "height": 361
        },
        "id": "70608Z0o9tWL",
        "outputId": "e207087a-b459-4425-f078-b0ea1c5d997e"
      },
      "source": [
        "#error plot --> gaussian distribution \n",
        "\n",
        "def errorPlot(preds, labels, counts):\n",
        "  errors = preds - labels\n",
        "  plt.hist(errors, counts)\n",
        "  plt.xlabel('Error')\n",
        "  plt.ylabel('Counts')\n",
        "  plt.show()\n",
        "\n",
        "errorPlot(testPreds, testLabels, numEpochs)"
      ],
      "execution_count": 31,
      "outputs": [
        {
          "output_type": "display_data",
          "data": {
            "image/png": "[encoded data removed]",
            "text/plain": [
              "<Figure size 576x396 with 1 Axes>"
            ]
          },
          "metadata": {
            "tags": []
          }
        }
      ]
    },
    {
      "cell_type": "markdown",
      "metadata": {
        "id": "oshf2mUG1vPk"
      },
      "source": [
        "Note: \n",
        "\n",
        "\n",
        "Validation loss `val_loss` is a metric that tells you how much deviation from the actual label can you expect in the predicted label\n",
        "\n",
        "To optimize your predicitons -->\n",
        "\n",
        "- Hyperparameter tuning --> `numEpochs`, `optimizer`, `learning_rate`, lossFunctions"
      ]
    }
  ]
}